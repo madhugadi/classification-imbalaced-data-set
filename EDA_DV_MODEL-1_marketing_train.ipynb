{
 "cells": [
  {
   "cell_type": "code",
   "execution_count": 1,
   "metadata": {},
   "outputs": [],
   "source": [
    "import pandas as pd\n",
    "import numpy as np\n",
    "import matplotlib.pyplot as plt\n",
    "import seaborn as sb"
   ]
  },
  {
   "cell_type": "code",
   "execution_count": 2,
   "metadata": {},
   "outputs": [
    {
     "data": {
      "text/html": [
       "<div>\n",
       "<style scoped>\n",
       "    .dataframe tbody tr th:only-of-type {\n",
       "        vertical-align: middle;\n",
       "    }\n",
       "\n",
       "    .dataframe tbody tr th {\n",
       "        vertical-align: top;\n",
       "    }\n",
       "\n",
       "    .dataframe thead th {\n",
       "        text-align: right;\n",
       "    }\n",
       "</style>\n",
       "<table border=\"1\" class=\"dataframe\">\n",
       "  <thead>\n",
       "    <tr style=\"text-align: right;\">\n",
       "      <th></th>\n",
       "      <th>custAge</th>\n",
       "      <th>profession</th>\n",
       "      <th>marital</th>\n",
       "      <th>schooling</th>\n",
       "      <th>default</th>\n",
       "      <th>housing</th>\n",
       "      <th>loan</th>\n",
       "      <th>contact</th>\n",
       "      <th>month</th>\n",
       "      <th>day_of_week</th>\n",
       "      <th>...</th>\n",
       "      <th>previous</th>\n",
       "      <th>poutcome</th>\n",
       "      <th>emp.var.rate</th>\n",
       "      <th>cons.price.idx</th>\n",
       "      <th>cons.conf.idx</th>\n",
       "      <th>euribor3m</th>\n",
       "      <th>nr.employed</th>\n",
       "      <th>pmonths</th>\n",
       "      <th>pastEmail</th>\n",
       "      <th>responded</th>\n",
       "    </tr>\n",
       "  </thead>\n",
       "  <tbody>\n",
       "    <tr>\n",
       "      <th>0</th>\n",
       "      <td>55.0</td>\n",
       "      <td>admin.</td>\n",
       "      <td>single</td>\n",
       "      <td>university.degree</td>\n",
       "      <td>unknown</td>\n",
       "      <td>no</td>\n",
       "      <td>no</td>\n",
       "      <td>cellular</td>\n",
       "      <td>nov</td>\n",
       "      <td>mon</td>\n",
       "      <td>...</td>\n",
       "      <td>0</td>\n",
       "      <td>nonexistent</td>\n",
       "      <td>-0.1</td>\n",
       "      <td>93.200</td>\n",
       "      <td>-42.0</td>\n",
       "      <td>4.191</td>\n",
       "      <td>5195.8</td>\n",
       "      <td>999.0</td>\n",
       "      <td>0</td>\n",
       "      <td>no</td>\n",
       "    </tr>\n",
       "    <tr>\n",
       "      <th>1</th>\n",
       "      <td>NaN</td>\n",
       "      <td>blue-collar</td>\n",
       "      <td>married</td>\n",
       "      <td>NaN</td>\n",
       "      <td>no</td>\n",
       "      <td>no</td>\n",
       "      <td>no</td>\n",
       "      <td>cellular</td>\n",
       "      <td>jul</td>\n",
       "      <td>mon</td>\n",
       "      <td>...</td>\n",
       "      <td>0</td>\n",
       "      <td>nonexistent</td>\n",
       "      <td>1.4</td>\n",
       "      <td>93.918</td>\n",
       "      <td>-42.7</td>\n",
       "      <td>4.960</td>\n",
       "      <td>5228.1</td>\n",
       "      <td>999.0</td>\n",
       "      <td>0</td>\n",
       "      <td>no</td>\n",
       "    </tr>\n",
       "    <tr>\n",
       "      <th>2</th>\n",
       "      <td>42.0</td>\n",
       "      <td>technician</td>\n",
       "      <td>married</td>\n",
       "      <td>high.school</td>\n",
       "      <td>no</td>\n",
       "      <td>no</td>\n",
       "      <td>no</td>\n",
       "      <td>telephone</td>\n",
       "      <td>may</td>\n",
       "      <td>mon</td>\n",
       "      <td>...</td>\n",
       "      <td>0</td>\n",
       "      <td>nonexistent</td>\n",
       "      <td>1.1</td>\n",
       "      <td>93.994</td>\n",
       "      <td>-36.4</td>\n",
       "      <td>4.857</td>\n",
       "      <td>5191.0</td>\n",
       "      <td>999.0</td>\n",
       "      <td>0</td>\n",
       "      <td>no</td>\n",
       "    </tr>\n",
       "    <tr>\n",
       "      <th>3</th>\n",
       "      <td>55.0</td>\n",
       "      <td>management</td>\n",
       "      <td>divorced</td>\n",
       "      <td>NaN</td>\n",
       "      <td>unknown</td>\n",
       "      <td>yes</td>\n",
       "      <td>yes</td>\n",
       "      <td>cellular</td>\n",
       "      <td>jul</td>\n",
       "      <td>wed</td>\n",
       "      <td>...</td>\n",
       "      <td>0</td>\n",
       "      <td>nonexistent</td>\n",
       "      <td>1.4</td>\n",
       "      <td>93.918</td>\n",
       "      <td>-42.7</td>\n",
       "      <td>4.962</td>\n",
       "      <td>5228.1</td>\n",
       "      <td>999.0</td>\n",
       "      <td>0</td>\n",
       "      <td>no</td>\n",
       "    </tr>\n",
       "    <tr>\n",
       "      <th>4</th>\n",
       "      <td>NaN</td>\n",
       "      <td>admin.</td>\n",
       "      <td>divorced</td>\n",
       "      <td>university.degree</td>\n",
       "      <td>no</td>\n",
       "      <td>yes</td>\n",
       "      <td>no</td>\n",
       "      <td>cellular</td>\n",
       "      <td>may</td>\n",
       "      <td>tue</td>\n",
       "      <td>...</td>\n",
       "      <td>1</td>\n",
       "      <td>failure</td>\n",
       "      <td>-1.8</td>\n",
       "      <td>92.893</td>\n",
       "      <td>-46.2</td>\n",
       "      <td>1.291</td>\n",
       "      <td>5099.1</td>\n",
       "      <td>999.0</td>\n",
       "      <td>1</td>\n",
       "      <td>no</td>\n",
       "    </tr>\n",
       "  </tbody>\n",
       "</table>\n",
       "<p>5 rows × 22 columns</p>\n",
       "</div>"
      ],
      "text/plain": [
       "   custAge   profession   marital          schooling  default housing loan  \\\n",
       "0     55.0       admin.    single  university.degree  unknown      no   no   \n",
       "1      NaN  blue-collar   married                NaN       no      no   no   \n",
       "2     42.0   technician   married        high.school       no      no   no   \n",
       "3     55.0   management  divorced                NaN  unknown     yes  yes   \n",
       "4      NaN       admin.  divorced  university.degree       no     yes   no   \n",
       "\n",
       "     contact month day_of_week  ...  previous     poutcome  emp.var.rate  \\\n",
       "0   cellular   nov         mon  ...         0  nonexistent          -0.1   \n",
       "1   cellular   jul         mon  ...         0  nonexistent           1.4   \n",
       "2  telephone   may         mon  ...         0  nonexistent           1.1   \n",
       "3   cellular   jul         wed  ...         0  nonexistent           1.4   \n",
       "4   cellular   may         tue  ...         1      failure          -1.8   \n",
       "\n",
       "  cons.price.idx  cons.conf.idx  euribor3m  nr.employed  pmonths  pastEmail  \\\n",
       "0         93.200          -42.0      4.191       5195.8    999.0          0   \n",
       "1         93.918          -42.7      4.960       5228.1    999.0          0   \n",
       "2         93.994          -36.4      4.857       5191.0    999.0          0   \n",
       "3         93.918          -42.7      4.962       5228.1    999.0          0   \n",
       "4         92.893          -46.2      1.291       5099.1    999.0          1   \n",
       "\n",
       "   responded  \n",
       "0         no  \n",
       "1         no  \n",
       "2         no  \n",
       "3         no  \n",
       "4         no  \n",
       "\n",
       "[5 rows x 22 columns]"
      ]
     },
     "execution_count": 2,
     "metadata": {},
     "output_type": "execute_result"
    }
   ],
   "source": [
    "#to read and display the dataset into pandas data frame\n",
    "marketing=pd.read_csv(\"Marketing_train.csv\")\n",
    "marketing.head()"
   ]
  },
  {
   "cell_type": "markdown",
   "metadata": {},
   "source": [
    "# Data Cleaning:-\n"
   ]
  },
  {
   "cell_type": "code",
   "execution_count": 3,
   "metadata": {},
   "outputs": [
    {
     "name": "stdout",
     "output_type": "stream",
     "text": [
      "profession: \n",
      " ['admin.' 'blue-collar' 'technician' 'management' 'services' 'unemployed'\n",
      " 'housemaid' 'unknown' 'self-employed' 'retired' 'student' 'entrepreneur']\n",
      "\n",
      "marital: \n",
      " ['single' 'married' 'divorced' 'unknown']\n",
      "\n",
      "schooling: \n",
      " ['university.degree' nan 'high.school' 'basic.4y' 'basic.9y'\n",
      " 'professional.course' 'basic.6y' 'unknown' 'illiterate']\n",
      "\n",
      "default: \n",
      " ['unknown' 'no' 'yes']\n",
      "\n",
      "housing: \n",
      " ['no' 'yes' 'unknown']\n",
      "\n",
      "loan: \n",
      " ['no' 'yes' 'unknown']\n",
      "\n",
      "contact: \n",
      " ['cellular' 'telephone']\n",
      "\n",
      "month: \n",
      " ['nov' 'jul' 'may' 'aug' 'apr' 'jun' 'mar' 'oct' 'sep' 'dec']\n",
      "\n",
      "day_of_week: \n",
      " ['mon' 'wed' 'tue' 'fri' 'thu' nan]\n",
      "\n",
      "poutcome: \n",
      " ['nonexistent' 'failure' 'success']\n",
      "\n",
      "responded: \n",
      " ['no' 'yes']\n",
      "\n"
     ]
    }
   ],
   "source": [
    "#checking the unique values present in the categorical fetures\n",
    "\n",
    "for i in marketing.columns:\n",
    "    if marketing[i].dtype==type(object):\n",
    "        print(i,end=\": \")\n",
    "        print(\"\\n\",marketing[i].unique())\n",
    "        print()"
   ]
  },
  {
   "cell_type": "markdown",
   "metadata": {},
   "source": [
    "### as there nan values mentioned as unknown, follwoing steps are taken to gt rid of it"
   ]
  },
  {
   "cell_type": "code",
   "execution_count": 4,
   "metadata": {},
   "outputs": [
    {
     "data": {
      "text/html": [
       "<div>\n",
       "<style scoped>\n",
       "    .dataframe tbody tr th:only-of-type {\n",
       "        vertical-align: middle;\n",
       "    }\n",
       "\n",
       "    .dataframe tbody tr th {\n",
       "        vertical-align: top;\n",
       "    }\n",
       "\n",
       "    .dataframe thead th {\n",
       "        text-align: right;\n",
       "    }\n",
       "</style>\n",
       "<table border=\"1\" class=\"dataframe\">\n",
       "  <thead>\n",
       "    <tr style=\"text-align: right;\">\n",
       "      <th></th>\n",
       "      <th>custAge</th>\n",
       "      <th>profession</th>\n",
       "      <th>marital</th>\n",
       "      <th>schooling</th>\n",
       "      <th>default</th>\n",
       "      <th>housing</th>\n",
       "      <th>loan</th>\n",
       "      <th>contact</th>\n",
       "      <th>month</th>\n",
       "      <th>day_of_week</th>\n",
       "      <th>...</th>\n",
       "      <th>previous</th>\n",
       "      <th>poutcome</th>\n",
       "      <th>emp.var.rate</th>\n",
       "      <th>cons.price.idx</th>\n",
       "      <th>cons.conf.idx</th>\n",
       "      <th>euribor3m</th>\n",
       "      <th>nr.employed</th>\n",
       "      <th>pmonths</th>\n",
       "      <th>pastEmail</th>\n",
       "      <th>responded</th>\n",
       "    </tr>\n",
       "  </thead>\n",
       "  <tbody>\n",
       "    <tr>\n",
       "      <th>0</th>\n",
       "      <td>55.0</td>\n",
       "      <td>admin.</td>\n",
       "      <td>single</td>\n",
       "      <td>university.degree</td>\n",
       "      <td>NaN</td>\n",
       "      <td>no</td>\n",
       "      <td>no</td>\n",
       "      <td>cellular</td>\n",
       "      <td>nov</td>\n",
       "      <td>mon</td>\n",
       "      <td>...</td>\n",
       "      <td>0</td>\n",
       "      <td>nonexistent</td>\n",
       "      <td>-0.1</td>\n",
       "      <td>93.200</td>\n",
       "      <td>-42.0</td>\n",
       "      <td>4.191</td>\n",
       "      <td>5195.8</td>\n",
       "      <td>999.0</td>\n",
       "      <td>0</td>\n",
       "      <td>no</td>\n",
       "    </tr>\n",
       "    <tr>\n",
       "      <th>1</th>\n",
       "      <td>NaN</td>\n",
       "      <td>blue-collar</td>\n",
       "      <td>married</td>\n",
       "      <td>NaN</td>\n",
       "      <td>no</td>\n",
       "      <td>no</td>\n",
       "      <td>no</td>\n",
       "      <td>cellular</td>\n",
       "      <td>jul</td>\n",
       "      <td>mon</td>\n",
       "      <td>...</td>\n",
       "      <td>0</td>\n",
       "      <td>nonexistent</td>\n",
       "      <td>1.4</td>\n",
       "      <td>93.918</td>\n",
       "      <td>-42.7</td>\n",
       "      <td>4.960</td>\n",
       "      <td>5228.1</td>\n",
       "      <td>999.0</td>\n",
       "      <td>0</td>\n",
       "      <td>no</td>\n",
       "    </tr>\n",
       "    <tr>\n",
       "      <th>2</th>\n",
       "      <td>42.0</td>\n",
       "      <td>technician</td>\n",
       "      <td>married</td>\n",
       "      <td>high.school</td>\n",
       "      <td>no</td>\n",
       "      <td>no</td>\n",
       "      <td>no</td>\n",
       "      <td>telephone</td>\n",
       "      <td>may</td>\n",
       "      <td>mon</td>\n",
       "      <td>...</td>\n",
       "      <td>0</td>\n",
       "      <td>nonexistent</td>\n",
       "      <td>1.1</td>\n",
       "      <td>93.994</td>\n",
       "      <td>-36.4</td>\n",
       "      <td>4.857</td>\n",
       "      <td>5191.0</td>\n",
       "      <td>999.0</td>\n",
       "      <td>0</td>\n",
       "      <td>no</td>\n",
       "    </tr>\n",
       "    <tr>\n",
       "      <th>3</th>\n",
       "      <td>55.0</td>\n",
       "      <td>management</td>\n",
       "      <td>divorced</td>\n",
       "      <td>NaN</td>\n",
       "      <td>NaN</td>\n",
       "      <td>yes</td>\n",
       "      <td>yes</td>\n",
       "      <td>cellular</td>\n",
       "      <td>jul</td>\n",
       "      <td>wed</td>\n",
       "      <td>...</td>\n",
       "      <td>0</td>\n",
       "      <td>nonexistent</td>\n",
       "      <td>1.4</td>\n",
       "      <td>93.918</td>\n",
       "      <td>-42.7</td>\n",
       "      <td>4.962</td>\n",
       "      <td>5228.1</td>\n",
       "      <td>999.0</td>\n",
       "      <td>0</td>\n",
       "      <td>no</td>\n",
       "    </tr>\n",
       "    <tr>\n",
       "      <th>4</th>\n",
       "      <td>NaN</td>\n",
       "      <td>admin.</td>\n",
       "      <td>divorced</td>\n",
       "      <td>university.degree</td>\n",
       "      <td>no</td>\n",
       "      <td>yes</td>\n",
       "      <td>no</td>\n",
       "      <td>cellular</td>\n",
       "      <td>may</td>\n",
       "      <td>tue</td>\n",
       "      <td>...</td>\n",
       "      <td>1</td>\n",
       "      <td>failure</td>\n",
       "      <td>-1.8</td>\n",
       "      <td>92.893</td>\n",
       "      <td>-46.2</td>\n",
       "      <td>1.291</td>\n",
       "      <td>5099.1</td>\n",
       "      <td>999.0</td>\n",
       "      <td>1</td>\n",
       "      <td>no</td>\n",
       "    </tr>\n",
       "  </tbody>\n",
       "</table>\n",
       "<p>5 rows × 22 columns</p>\n",
       "</div>"
      ],
      "text/plain": [
       "   custAge   profession   marital          schooling default housing loan  \\\n",
       "0     55.0       admin.    single  university.degree     NaN      no   no   \n",
       "1      NaN  blue-collar   married                NaN      no      no   no   \n",
       "2     42.0   technician   married        high.school      no      no   no   \n",
       "3     55.0   management  divorced                NaN     NaN     yes  yes   \n",
       "4      NaN       admin.  divorced  university.degree      no     yes   no   \n",
       "\n",
       "     contact month day_of_week  ...  previous     poutcome  emp.var.rate  \\\n",
       "0   cellular   nov         mon  ...         0  nonexistent          -0.1   \n",
       "1   cellular   jul         mon  ...         0  nonexistent           1.4   \n",
       "2  telephone   may         mon  ...         0  nonexistent           1.1   \n",
       "3   cellular   jul         wed  ...         0  nonexistent           1.4   \n",
       "4   cellular   may         tue  ...         1      failure          -1.8   \n",
       "\n",
       "  cons.price.idx  cons.conf.idx  euribor3m  nr.employed  pmonths  pastEmail  \\\n",
       "0         93.200          -42.0      4.191       5195.8    999.0          0   \n",
       "1         93.918          -42.7      4.960       5228.1    999.0          0   \n",
       "2         93.994          -36.4      4.857       5191.0    999.0          0   \n",
       "3         93.918          -42.7      4.962       5228.1    999.0          0   \n",
       "4         92.893          -46.2      1.291       5099.1    999.0          1   \n",
       "\n",
       "   responded  \n",
       "0         no  \n",
       "1         no  \n",
       "2         no  \n",
       "3         no  \n",
       "4         no  \n",
       "\n",
       "[5 rows x 22 columns]"
      ]
     },
     "execution_count": 4,
     "metadata": {},
     "output_type": "execute_result"
    }
   ],
   "source": [
    "#re-redaing the data with Nan values\n",
    "marketing=pd.read_csv(\"Marketing_train.csv\",na_values=\"unknown\")\n",
    "marketing.head()"
   ]
  },
  {
   "cell_type": "markdown",
   "metadata": {},
   "source": [
    "# EDA"
   ]
  },
  {
   "cell_type": "code",
   "execution_count": 5,
   "metadata": {},
   "outputs": [
    {
     "data": {
      "text/plain": [
       "(7414, 22)"
      ]
     },
     "execution_count": 5,
     "metadata": {},
     "output_type": "execute_result"
    }
   ],
   "source": [
    "#to check nthe size of the dataset\n",
    "\n",
    "marketing.shape"
   ]
  },
  {
   "cell_type": "code",
   "execution_count": 6,
   "metadata": {},
   "outputs": [
    {
     "data": {
      "text/plain": [
       "Index(['custAge', 'profession', 'marital', 'schooling', 'default', 'housing',\n",
       "       'loan', 'contact', 'month', 'day_of_week', 'campaign', 'pdays',\n",
       "       'previous', 'poutcome', 'emp.var.rate', 'cons.price.idx',\n",
       "       'cons.conf.idx', 'euribor3m', 'nr.employed', 'pmonths', 'pastEmail',\n",
       "       'responded'],\n",
       "      dtype='object')"
      ]
     },
     "execution_count": 6,
     "metadata": {},
     "output_type": "execute_result"
    }
   ],
   "source": [
    "#to check the columns\n",
    "marketing.columns"
   ]
  },
  {
   "cell_type": "code",
   "execution_count": 7,
   "metadata": {},
   "outputs": [
    {
     "data": {
      "text/html": [
       "<div>\n",
       "<style scoped>\n",
       "    .dataframe tbody tr th:only-of-type {\n",
       "        vertical-align: middle;\n",
       "    }\n",
       "\n",
       "    .dataframe tbody tr th {\n",
       "        vertical-align: top;\n",
       "    }\n",
       "\n",
       "    .dataframe thead th {\n",
       "        text-align: right;\n",
       "    }\n",
       "</style>\n",
       "<table border=\"1\" class=\"dataframe\">\n",
       "  <thead>\n",
       "    <tr style=\"text-align: right;\">\n",
       "      <th></th>\n",
       "      <th>custAge</th>\n",
       "      <th>campaign</th>\n",
       "      <th>pdays</th>\n",
       "      <th>previous</th>\n",
       "      <th>emp.var.rate</th>\n",
       "      <th>cons.price.idx</th>\n",
       "      <th>cons.conf.idx</th>\n",
       "      <th>euribor3m</th>\n",
       "      <th>nr.employed</th>\n",
       "      <th>pmonths</th>\n",
       "      <th>pastEmail</th>\n",
       "    </tr>\n",
       "  </thead>\n",
       "  <tbody>\n",
       "    <tr>\n",
       "      <th>count</th>\n",
       "      <td>5610.000000</td>\n",
       "      <td>7414.000000</td>\n",
       "      <td>7414.000000</td>\n",
       "      <td>7414.000000</td>\n",
       "      <td>7414.000000</td>\n",
       "      <td>7414.000000</td>\n",
       "      <td>7414.000000</td>\n",
       "      <td>7414.000000</td>\n",
       "      <td>7414.000000</td>\n",
       "      <td>7414.000000</td>\n",
       "      <td>7414.000000</td>\n",
       "    </tr>\n",
       "    <tr>\n",
       "      <th>mean</th>\n",
       "      <td>40.009804</td>\n",
       "      <td>2.518344</td>\n",
       "      <td>960.024548</td>\n",
       "      <td>0.184111</td>\n",
       "      <td>0.052091</td>\n",
       "      <td>93.570708</td>\n",
       "      <td>-40.561316</td>\n",
       "      <td>3.583141</td>\n",
       "      <td>5165.224251</td>\n",
       "      <td>959.797028</td>\n",
       "      <td>0.361883</td>\n",
       "    </tr>\n",
       "    <tr>\n",
       "      <th>std</th>\n",
       "      <td>10.574616</td>\n",
       "      <td>2.695055</td>\n",
       "      <td>192.845029</td>\n",
       "      <td>0.516775</td>\n",
       "      <td>1.568399</td>\n",
       "      <td>0.578345</td>\n",
       "      <td>4.649800</td>\n",
       "      <td>1.744865</td>\n",
       "      <td>73.108669</td>\n",
       "      <td>193.969418</td>\n",
       "      <td>1.261668</td>\n",
       "    </tr>\n",
       "    <tr>\n",
       "      <th>min</th>\n",
       "      <td>18.000000</td>\n",
       "      <td>1.000000</td>\n",
       "      <td>0.000000</td>\n",
       "      <td>0.000000</td>\n",
       "      <td>-3.400000</td>\n",
       "      <td>92.201000</td>\n",
       "      <td>-50.800000</td>\n",
       "      <td>0.634000</td>\n",
       "      <td>4963.600000</td>\n",
       "      <td>0.000000</td>\n",
       "      <td>0.000000</td>\n",
       "    </tr>\n",
       "    <tr>\n",
       "      <th>25%</th>\n",
       "      <td>32.000000</td>\n",
       "      <td>1.000000</td>\n",
       "      <td>999.000000</td>\n",
       "      <td>0.000000</td>\n",
       "      <td>-1.800000</td>\n",
       "      <td>93.075000</td>\n",
       "      <td>-42.700000</td>\n",
       "      <td>1.334000</td>\n",
       "      <td>5099.100000</td>\n",
       "      <td>999.000000</td>\n",
       "      <td>0.000000</td>\n",
       "    </tr>\n",
       "    <tr>\n",
       "      <th>50%</th>\n",
       "      <td>38.000000</td>\n",
       "      <td>2.000000</td>\n",
       "      <td>999.000000</td>\n",
       "      <td>0.000000</td>\n",
       "      <td>1.100000</td>\n",
       "      <td>93.444000</td>\n",
       "      <td>-41.800000</td>\n",
       "      <td>4.857000</td>\n",
       "      <td>5191.000000</td>\n",
       "      <td>999.000000</td>\n",
       "      <td>0.000000</td>\n",
       "    </tr>\n",
       "    <tr>\n",
       "      <th>75%</th>\n",
       "      <td>47.000000</td>\n",
       "      <td>3.000000</td>\n",
       "      <td>999.000000</td>\n",
       "      <td>0.000000</td>\n",
       "      <td>1.400000</td>\n",
       "      <td>93.994000</td>\n",
       "      <td>-36.400000</td>\n",
       "      <td>4.961000</td>\n",
       "      <td>5228.100000</td>\n",
       "      <td>999.000000</td>\n",
       "      <td>0.000000</td>\n",
       "    </tr>\n",
       "    <tr>\n",
       "      <th>max</th>\n",
       "      <td>94.000000</td>\n",
       "      <td>40.000000</td>\n",
       "      <td>999.000000</td>\n",
       "      <td>6.000000</td>\n",
       "      <td>1.400000</td>\n",
       "      <td>94.767000</td>\n",
       "      <td>-26.900000</td>\n",
       "      <td>5.045000</td>\n",
       "      <td>5228.100000</td>\n",
       "      <td>999.000000</td>\n",
       "      <td>18.000000</td>\n",
       "    </tr>\n",
       "  </tbody>\n",
       "</table>\n",
       "</div>"
      ],
      "text/plain": [
       "           custAge     campaign        pdays     previous  emp.var.rate  \\\n",
       "count  5610.000000  7414.000000  7414.000000  7414.000000   7414.000000   \n",
       "mean     40.009804     2.518344   960.024548     0.184111      0.052091   \n",
       "std      10.574616     2.695055   192.845029     0.516775      1.568399   \n",
       "min      18.000000     1.000000     0.000000     0.000000     -3.400000   \n",
       "25%      32.000000     1.000000   999.000000     0.000000     -1.800000   \n",
       "50%      38.000000     2.000000   999.000000     0.000000      1.100000   \n",
       "75%      47.000000     3.000000   999.000000     0.000000      1.400000   \n",
       "max      94.000000    40.000000   999.000000     6.000000      1.400000   \n",
       "\n",
       "       cons.price.idx  cons.conf.idx    euribor3m  nr.employed      pmonths  \\\n",
       "count     7414.000000    7414.000000  7414.000000  7414.000000  7414.000000   \n",
       "mean        93.570708     -40.561316     3.583141  5165.224251   959.797028   \n",
       "std          0.578345       4.649800     1.744865    73.108669   193.969418   \n",
       "min         92.201000     -50.800000     0.634000  4963.600000     0.000000   \n",
       "25%         93.075000     -42.700000     1.334000  5099.100000   999.000000   \n",
       "50%         93.444000     -41.800000     4.857000  5191.000000   999.000000   \n",
       "75%         93.994000     -36.400000     4.961000  5228.100000   999.000000   \n",
       "max         94.767000     -26.900000     5.045000  5228.100000   999.000000   \n",
       "\n",
       "         pastEmail  \n",
       "count  7414.000000  \n",
       "mean      0.361883  \n",
       "std       1.261668  \n",
       "min       0.000000  \n",
       "25%       0.000000  \n",
       "50%       0.000000  \n",
       "75%       0.000000  \n",
       "max      18.000000  "
      ]
     },
     "execution_count": 7,
     "metadata": {},
     "output_type": "execute_result"
    }
   ],
   "source": [
    "#descriptive statistics\n",
    "marketing.describe()"
   ]
  },
  {
   "cell_type": "code",
   "execution_count": 8,
   "metadata": {},
   "outputs": [
    {
     "name": "stdout",
     "output_type": "stream",
     "text": [
      "<class 'pandas.core.frame.DataFrame'>\n",
      "RangeIndex: 7414 entries, 0 to 7413\n",
      "Data columns (total 22 columns):\n",
      "custAge           5610 non-null float64\n",
      "profession        7353 non-null object\n",
      "marital           7406 non-null object\n",
      "schooling         5028 non-null object\n",
      "default           5982 non-null object\n",
      "housing           7246 non-null object\n",
      "loan              7246 non-null object\n",
      "contact           7414 non-null object\n",
      "month             7414 non-null object\n",
      "day_of_week       6703 non-null object\n",
      "campaign          7414 non-null int64\n",
      "pdays             7414 non-null int64\n",
      "previous          7414 non-null int64\n",
      "poutcome          7414 non-null object\n",
      "emp.var.rate      7414 non-null float64\n",
      "cons.price.idx    7414 non-null float64\n",
      "cons.conf.idx     7414 non-null float64\n",
      "euribor3m         7414 non-null float64\n",
      "nr.employed       7414 non-null float64\n",
      "pmonths           7414 non-null float64\n",
      "pastEmail         7414 non-null int64\n",
      "responded         7414 non-null object\n",
      "dtypes: float64(7), int64(4), object(11)\n",
      "memory usage: 1.2+ MB\n"
     ]
    }
   ],
   "source": [
    "#to check the datatypes of the features of the columns\n",
    "marketing.info()"
   ]
  },
  {
   "cell_type": "code",
   "execution_count": 9,
   "metadata": {},
   "outputs": [
    {
     "data": {
      "text/plain": [
       "custAge           1804\n",
       "profession          61\n",
       "marital              8\n",
       "schooling         2386\n",
       "default           1432\n",
       "housing            168\n",
       "loan               168\n",
       "contact              0\n",
       "month                0\n",
       "day_of_week        711\n",
       "campaign             0\n",
       "pdays                0\n",
       "previous             0\n",
       "poutcome             0\n",
       "emp.var.rate         0\n",
       "cons.price.idx       0\n",
       "cons.conf.idx        0\n",
       "euribor3m            0\n",
       "nr.employed          0\n",
       "pmonths              0\n",
       "pastEmail            0\n",
       "responded            0\n",
       "dtype: int64"
      ]
     },
     "execution_count": 9,
     "metadata": {},
     "output_type": "execute_result"
    }
   ],
   "source": [
    "#missing value analysis\n",
    "marketing.isnull().sum()"
   ]
  },
  {
   "cell_type": "markdown",
   "metadata": {},
   "source": [
    "### as the dataset is small, so dropping the nan values will not help, so we have proceed ahead with imputation"
   ]
  },
  {
   "cell_type": "markdown",
   "metadata": {},
   "source": [
    "# Missing Value Imputation\n",
    "- for categorical mode imputation\n",
    "- for numerical mean imputation"
   ]
  },
  {
   "cell_type": "code",
   "execution_count": 10,
   "metadata": {},
   "outputs": [
    {
     "data": {
      "text/plain": [
       "custAge           0\n",
       "profession        0\n",
       "marital           0\n",
       "schooling         0\n",
       "default           0\n",
       "housing           0\n",
       "loan              0\n",
       "contact           0\n",
       "month             0\n",
       "day_of_week       0\n",
       "campaign          0\n",
       "pdays             0\n",
       "previous          0\n",
       "poutcome          0\n",
       "emp.var.rate      0\n",
       "cons.price.idx    0\n",
       "cons.conf.idx     0\n",
       "euribor3m         0\n",
       "nr.employed       0\n",
       "pmonths           0\n",
       "pastEmail         0\n",
       "responded         0\n",
       "dtype: int64"
      ]
     },
     "execution_count": 10,
     "metadata": {},
     "output_type": "execute_result"
    }
   ],
   "source": [
    "# Mean Imputation Missing Values for Numeric Variables\n",
    "marketing[\"custAge\"] = marketing[\"custAge\"].fillna(marketing[\"custAge\"].mean())\n",
    "\n",
    "# Mode Imputation of Missing Values for Categorical Variables\n",
    "marketing[\"schooling\"] = marketing[\"schooling\"].fillna(marketing[\"schooling\"].mode()[0])\n",
    "marketing[\"day_of_week\"] = marketing[\"day_of_week\"].fillna(marketing[\"day_of_week\"].mode()[0])\n",
    "marketing[\"default\"] = marketing[\"default\"].fillna(marketing[\"default\"].mode()[0])\n",
    "marketing[\"loan\"] = marketing[\"loan\"].fillna(marketing[\"loan\"].mode()[0])\n",
    "marketing[\"profession\"] = marketing[\"profession\"].fillna(marketing[\"profession\"].mode()[0])\n",
    "marketing[\"housing\"] = marketing[\"housing\"].fillna(marketing[\"housing\"].mode()[0])\n",
    "marketing[\"marital\"] = marketing[\"marital\"].fillna(marketing[\"marital\"].mode()[0])\n",
    "\n",
    "# Checking the count of missing values\n",
    "marketing.isnull().sum()\n"
   ]
  },
  {
   "cell_type": "code",
   "execution_count": 11,
   "metadata": {},
   "outputs": [
    {
     "name": "stdout",
     "output_type": "stream",
     "text": [
      "profession: \n",
      " ['admin.' 'blue-collar' 'technician' 'management' 'services' 'unemployed'\n",
      " 'housemaid' 'self-employed' 'retired' 'student' 'entrepreneur']\n",
      "\n",
      "marital: \n",
      " ['single' 'married' 'divorced']\n",
      "\n",
      "schooling: \n",
      " ['university.degree' 'high.school' 'basic.4y' 'basic.9y'\n",
      " 'professional.course' 'basic.6y' 'illiterate']\n",
      "\n",
      "default: \n",
      " ['no' 'yes']\n",
      "\n",
      "housing: \n",
      " ['no' 'yes']\n",
      "\n",
      "loan: \n",
      " ['no' 'yes']\n",
      "\n",
      "contact: \n",
      " ['cellular' 'telephone']\n",
      "\n",
      "month: \n",
      " ['nov' 'jul' 'may' 'aug' 'apr' 'jun' 'mar' 'oct' 'sep' 'dec']\n",
      "\n",
      "day_of_week: \n",
      " ['mon' 'wed' 'tue' 'fri' 'thu']\n",
      "\n",
      "poutcome: \n",
      " ['nonexistent' 'failure' 'success']\n",
      "\n",
      "responded: \n",
      " ['no' 'yes']\n",
      "\n"
     ]
    }
   ],
   "source": [
    "#checking the unique values present in the categorical fetures\n",
    "\n",
    "for i in marketing.columns:\n",
    "    if marketing[i].dtype==type(object):\n",
    "        print(i,end=\": \")\n",
    "        print(\"\\n\",marketing[i].unique())\n",
    "        print()"
   ]
  },
  {
   "cell_type": "markdown",
   "metadata": {},
   "source": [
    "# univariate analyis of traget variable"
   ]
  },
  {
   "cell_type": "code",
   "execution_count": 12,
   "metadata": {},
   "outputs": [
    {
     "data": {
      "text/plain": [
       "no     6574\n",
       "yes     840\n",
       "Name: responded, dtype: int64"
      ]
     },
     "execution_count": 12,
     "metadata": {},
     "output_type": "execute_result"
    }
   ],
   "source": [
    "#univariate analysis\n",
    "marketing[\"responded\"].value_counts()"
   ]
  },
  {
   "cell_type": "code",
   "execution_count": 13,
   "metadata": {},
   "outputs": [
    {
     "data": {
      "text/plain": [
       "no     0.886701\n",
       "yes    0.113299\n",
       "Name: responded, dtype: float64"
      ]
     },
     "execution_count": 13,
     "metadata": {},
     "output_type": "execute_result"
    }
   ],
   "source": [
    "#checking teh distribution os the target variable in percentage\n",
    "marketing[\"responded\"].value_counts(normalize=True)"
   ]
  },
  {
   "cell_type": "markdown",
   "metadata": {},
   "source": [
    "# Observation\n",
    "- 88%  said no for the campaign\n",
    "- only 11% said yes for the campaign\n",
    "- lets put a countplot and view the response"
   ]
  },
  {
   "cell_type": "code",
   "execution_count": 14,
   "metadata": {},
   "outputs": [
    {
     "data": {
      "text/plain": [
       "<matplotlib.axes._subplots.AxesSubplot at 0x135262ffa58>"
      ]
     },
     "execution_count": 14,
     "metadata": {},
     "output_type": "execute_result"
    },
    {
     "data": {
      "image/png": "[encoded data removed]",
      "text/plain": [
       "<Figure size 432x288 with 1 Axes>"
      ]
     },
     "metadata": {
      "needs_background": "light"
     },
     "output_type": "display_data"
    }
   ],
   "source": [
    "#countplot to check the distribution of target variable\n",
    "sb.countplot(marketing[\"responded\"])"
   ]
  },
  {
   "cell_type": "code",
   "execution_count": 15,
   "metadata": {},
   "outputs": [
    {
     "data": {
      "text/plain": [
       "<matplotlib.axes._subplots.AxesSubplot at 0x1352636f240>"
      ]
     },
     "execution_count": 15,
     "metadata": {},
     "output_type": "execute_result"
    },
    {
     "data": {
      "image/png": "[encoded data removed]",
      "text/plain": [
       "<Figure size 432x288 with 1 Axes>"
      ]
     },
     "metadata": {
      "needs_background": "light"
     },
     "output_type": "display_data"
    }
   ],
   "source": [
    "# checking for the outliers in the columns\n",
    "sb.boxplot(marketing[\"custAge\"])"
   ]
  },
  {
   "cell_type": "markdown",
   "metadata": {},
   "source": [
    "### here the above boxplot shows that, the median age is 40.there are outliers after 60.majority of the customer age is between 35 to 45 years"
   ]
  },
  {
   "cell_type": "code",
   "execution_count": 16,
   "metadata": {},
   "outputs": [
    {
     "data": {
      "text/plain": [
       "141"
      ]
     },
     "execution_count": 16,
     "metadata": {},
     "output_type": "execute_result"
    }
   ],
   "source": [
    "# count the outliers\n",
    "marketing[marketing[\"custAge\"]>60][\"custAge\"].count()"
   ]
  },
  {
   "cell_type": "code",
   "execution_count": 17,
   "metadata": {},
   "outputs": [
    {
     "data": {
      "image/png": "[encoded data removed]",
      "text/plain": [
       "<Figure size 432x288 with 1 Axes>"
      ]
     },
     "metadata": {
      "needs_background": "light"
     },
     "output_type": "display_data"
    }
   ],
   "source": [
    "#plotting  histogram for the variable cust age\n",
    "ax=plt.hist(marketing[\"custAge\"],bins=10)"
   ]
  },
  {
   "cell_type": "markdown",
   "metadata": {},
   "source": [
    "### the above histogram showed us the data is skewed"
   ]
  },
  {
   "cell_type": "markdown",
   "metadata": {},
   "source": [
    "# Bi-variate analysis"
   ]
  },
  {
   "cell_type": "code",
   "execution_count": 18,
   "metadata": {},
   "outputs": [
    {
     "data": {
      "text/plain": [
       "<matplotlib.axes._subplots.AxesSubplot at 0x1352673a978>"
      ]
     },
     "execution_count": 18,
     "metadata": {},
     "output_type": "execute_result"
    },
    {
     "data": {
      "image/png": "[encoded data removed]",
      "text/plain": [
       "<Figure size 432x288 with 1 Axes>"
      ]
     },
     "metadata": {
      "needs_background": "light"
     },
     "output_type": "display_data"
    }
   ],
   "source": [
    "#check how many responded, when the contact was celuular\n",
    "sb.countplot(y= marketing[\"contact\"],hue=marketing[\"responded\"])"
   ]
  },
  {
   "cell_type": "markdown",
   "metadata": {},
   "source": [
    "### people who were contacted by cellular responded no than telepphone"
   ]
  },
  {
   "cell_type": "code",
   "execution_count": 19,
   "metadata": {},
   "outputs": [
    {
     "data": {
      "text/plain": [
       "<matplotlib.axes._subplots.AxesSubplot at 0x135267dd048>"
      ]
     },
     "execution_count": 19,
     "metadata": {},
     "output_type": "execute_result"
    },
    {
     "data": {
      "image/png": "[encoded data removed]",
      "text/plain": [
       "<Figure size 432x288 with 1 Axes>"
      ]
     },
     "metadata": {
      "needs_background": "light"
     },
     "output_type": "display_data"
    }
   ],
   "source": [
    "#check how loan is affecting  the target\n",
    "sb.countplot(y= marketing[\"loan\"],hue=marketing[\"responded\"])"
   ]
  },
  {
   "cell_type": "markdown",
   "metadata": {},
   "source": [
    "### people who have loan responded no and very less respnoded yes and vice versa"
   ]
  },
  {
   "cell_type": "code",
   "execution_count": 20,
   "metadata": {},
   "outputs": [
    {
     "data": {
      "text/plain": [
       "<matplotlib.axes._subplots.AxesSubplot at 0x13526831a58>"
      ]
     },
     "execution_count": 20,
     "metadata": {},
     "output_type": "execute_result"
    },
    {
     "data": {
      "image/png": "[encoded data removed]",
      "text/plain": [
       "<Figure size 432x288 with 1 Axes>"
      ]
     },
     "metadata": {
      "needs_background": "light"
     },
     "output_type": "display_data"
    }
   ],
   "source": [
    "sb.countplot(y= marketing[\"day_of_week\"],hue=marketing[\"responded\"])\n",
    "sb.countplot(y= marketing[\"month\"],hue=marketing[\"responded\"])\n",
    "sb.countplot(y= marketing[\"marital\"],hue=marketing[\"responded\"])\n",
    "sb.countplot(y= marketing[\"schooling\"],hue=marketing[\"responded\"])\n",
    "sb.countplot(y= marketing[\"poutcome\"],hue=marketing[\"responded\"])\n"
   ]
  },
  {
   "cell_type": "markdown",
   "metadata": {},
   "source": [
    "### there was better response when :\n",
    "- when contacted on mon\n",
    "- duirng the month may\n",
    "- married people\n",
    "- profession is admin\n",
    "- eductaion is university degree\n",
    "- contacted through mobile\n",
    "- they are new customers-previous outcome was non-existant"
   ]
  },
  {
   "cell_type": "markdown",
   "metadata": {},
   "source": [
    "# Calculate the correlation for the numeric values"
   ]
  },
  {
   "cell_type": "code",
   "execution_count": 21,
   "metadata": {},
   "outputs": [
    {
     "data": {
      "image/png": "[encoded data removed]",
      "text/plain": [
       "<Figure size 1080x576 with 2 Axes>"
      ]
     },
     "metadata": {
      "needs_background": "light"
     },
     "output_type": "display_data"
    }
   ],
   "source": [
    "#calculate the correlation\n",
    "corr= marketing.corr()\n",
    "\n",
    "#setting the size of the figure\n",
    "plt.figure(figsize=(15,8))\n",
    "\n",
    "#plot the correlation using the heatmap\n",
    "ax=sb.heatmap(corr, annot=True)"
   ]
  },
  {
   "cell_type": "markdown",
   "metadata": {},
   "source": [
    "# Encoding the categorical variables"
   ]
  },
  {
   "cell_type": "code",
   "execution_count": 22,
   "metadata": {},
   "outputs": [
    {
     "data": {
      "text/html": [
       "<div>\n",
       "<style scoped>\n",
       "    .dataframe tbody tr th:only-of-type {\n",
       "        vertical-align: middle;\n",
       "    }\n",
       "\n",
       "    .dataframe tbody tr th {\n",
       "        vertical-align: top;\n",
       "    }\n",
       "\n",
       "    .dataframe thead th {\n",
       "        text-align: right;\n",
       "    }\n",
       "</style>\n",
       "<table border=\"1\" class=\"dataframe\">\n",
       "  <thead>\n",
       "    <tr style=\"text-align: right;\">\n",
       "      <th></th>\n",
       "      <th>custAge</th>\n",
       "      <th>profession</th>\n",
       "      <th>marital</th>\n",
       "      <th>schooling</th>\n",
       "      <th>default</th>\n",
       "      <th>housing</th>\n",
       "      <th>loan</th>\n",
       "      <th>contact</th>\n",
       "      <th>month</th>\n",
       "      <th>day_of_week</th>\n",
       "      <th>...</th>\n",
       "      <th>previous</th>\n",
       "      <th>poutcome</th>\n",
       "      <th>emp.var.rate</th>\n",
       "      <th>cons.price.idx</th>\n",
       "      <th>cons.conf.idx</th>\n",
       "      <th>euribor3m</th>\n",
       "      <th>nr.employed</th>\n",
       "      <th>pmonths</th>\n",
       "      <th>pastEmail</th>\n",
       "      <th>responded</th>\n",
       "    </tr>\n",
       "  </thead>\n",
       "  <tbody>\n",
       "    <tr>\n",
       "      <th>0</th>\n",
       "      <td>55.000000</td>\n",
       "      <td>0</td>\n",
       "      <td>2</td>\n",
       "      <td>6</td>\n",
       "      <td>no</td>\n",
       "      <td>no</td>\n",
       "      <td>no</td>\n",
       "      <td>0</td>\n",
       "      <td>7</td>\n",
       "      <td>1</td>\n",
       "      <td>...</td>\n",
       "      <td>0</td>\n",
       "      <td>1</td>\n",
       "      <td>-0.1</td>\n",
       "      <td>93.200</td>\n",
       "      <td>-42.0</td>\n",
       "      <td>4.191</td>\n",
       "      <td>5195.8</td>\n",
       "      <td>999.0</td>\n",
       "      <td>0</td>\n",
       "      <td>0</td>\n",
       "    </tr>\n",
       "    <tr>\n",
       "      <th>1</th>\n",
       "      <td>40.009804</td>\n",
       "      <td>1</td>\n",
       "      <td>1</td>\n",
       "      <td>6</td>\n",
       "      <td>no</td>\n",
       "      <td>no</td>\n",
       "      <td>no</td>\n",
       "      <td>0</td>\n",
       "      <td>3</td>\n",
       "      <td>1</td>\n",
       "      <td>...</td>\n",
       "      <td>0</td>\n",
       "      <td>1</td>\n",
       "      <td>1.4</td>\n",
       "      <td>93.918</td>\n",
       "      <td>-42.7</td>\n",
       "      <td>4.960</td>\n",
       "      <td>5228.1</td>\n",
       "      <td>999.0</td>\n",
       "      <td>0</td>\n",
       "      <td>0</td>\n",
       "    </tr>\n",
       "    <tr>\n",
       "      <th>2</th>\n",
       "      <td>42.000000</td>\n",
       "      <td>9</td>\n",
       "      <td>1</td>\n",
       "      <td>3</td>\n",
       "      <td>no</td>\n",
       "      <td>no</td>\n",
       "      <td>no</td>\n",
       "      <td>1</td>\n",
       "      <td>6</td>\n",
       "      <td>1</td>\n",
       "      <td>...</td>\n",
       "      <td>0</td>\n",
       "      <td>1</td>\n",
       "      <td>1.1</td>\n",
       "      <td>93.994</td>\n",
       "      <td>-36.4</td>\n",
       "      <td>4.857</td>\n",
       "      <td>5191.0</td>\n",
       "      <td>999.0</td>\n",
       "      <td>0</td>\n",
       "      <td>0</td>\n",
       "    </tr>\n",
       "    <tr>\n",
       "      <th>3</th>\n",
       "      <td>55.000000</td>\n",
       "      <td>4</td>\n",
       "      <td>0</td>\n",
       "      <td>6</td>\n",
       "      <td>no</td>\n",
       "      <td>yes</td>\n",
       "      <td>yes</td>\n",
       "      <td>0</td>\n",
       "      <td>3</td>\n",
       "      <td>4</td>\n",
       "      <td>...</td>\n",
       "      <td>0</td>\n",
       "      <td>1</td>\n",
       "      <td>1.4</td>\n",
       "      <td>93.918</td>\n",
       "      <td>-42.7</td>\n",
       "      <td>4.962</td>\n",
       "      <td>5228.1</td>\n",
       "      <td>999.0</td>\n",
       "      <td>0</td>\n",
       "      <td>0</td>\n",
       "    </tr>\n",
       "    <tr>\n",
       "      <th>4</th>\n",
       "      <td>40.009804</td>\n",
       "      <td>0</td>\n",
       "      <td>0</td>\n",
       "      <td>6</td>\n",
       "      <td>no</td>\n",
       "      <td>yes</td>\n",
       "      <td>no</td>\n",
       "      <td>0</td>\n",
       "      <td>6</td>\n",
       "      <td>3</td>\n",
       "      <td>...</td>\n",
       "      <td>1</td>\n",
       "      <td>0</td>\n",
       "      <td>-1.8</td>\n",
       "      <td>92.893</td>\n",
       "      <td>-46.2</td>\n",
       "      <td>1.291</td>\n",
       "      <td>5099.1</td>\n",
       "      <td>999.0</td>\n",
       "      <td>1</td>\n",
       "      <td>0</td>\n",
       "    </tr>\n",
       "  </tbody>\n",
       "</table>\n",
       "<p>5 rows × 22 columns</p>\n",
       "</div>"
      ],
      "text/plain": [
       "     custAge  profession  marital  schooling default housing loan  contact  \\\n",
       "0  55.000000           0        2          6      no      no   no        0   \n",
       "1  40.009804           1        1          6      no      no   no        0   \n",
       "2  42.000000           9        1          3      no      no   no        1   \n",
       "3  55.000000           4        0          6      no     yes  yes        0   \n",
       "4  40.009804           0        0          6      no     yes   no        0   \n",
       "\n",
       "   month  day_of_week  ...  previous  poutcome  emp.var.rate  cons.price.idx  \\\n",
       "0      7            1  ...         0         1          -0.1          93.200   \n",
       "1      3            1  ...         0         1           1.4          93.918   \n",
       "2      6            1  ...         0         1           1.1          93.994   \n",
       "3      3            4  ...         0         1           1.4          93.918   \n",
       "4      6            3  ...         1         0          -1.8          92.893   \n",
       "\n",
       "   cons.conf.idx  euribor3m  nr.employed  pmonths  pastEmail  responded  \n",
       "0          -42.0      4.191       5195.8    999.0          0          0  \n",
       "1          -42.7      4.960       5228.1    999.0          0          0  \n",
       "2          -36.4      4.857       5191.0    999.0          0          0  \n",
       "3          -42.7      4.962       5228.1    999.0          0          0  \n",
       "4          -46.2      1.291       5099.1    999.0          1          0  \n",
       "\n",
       "[5 rows x 22 columns]"
      ]
     },
     "execution_count": 22,
     "metadata": {},
     "output_type": "execute_result"
    }
   ],
   "source": [
    "#columns to perform label encoding\n",
    "cols_to_le=['profession', 'marital', 'schooling','contact', 'month', 'day_of_week',\n",
    "            'poutcome','responded']\n",
    "\n",
    "#Label encoding the categorical variables\n",
    "from sklearn.preprocessing import LabelEncoder\n",
    "le= LabelEncoder()\n",
    "for column in cols_to_le:\n",
    "    marketing[column]= le.fit_transform(marketing[column])\n",
    "    \n",
    "marketing.head()"
   ]
  },
  {
   "cell_type": "code",
   "execution_count": 23,
   "metadata": {},
   "outputs": [],
   "source": [
    "#!pip install category_encoders"
   ]
  },
  {
   "cell_type": "code",
   "execution_count": 24,
   "metadata": {},
   "outputs": [
    {
     "data": {
      "text/html": [
       "<div>\n",
       "<style scoped>\n",
       "    .dataframe tbody tr th:only-of-type {\n",
       "        vertical-align: middle;\n",
       "    }\n",
       "\n",
       "    .dataframe tbody tr th {\n",
       "        vertical-align: top;\n",
       "    }\n",
       "\n",
       "    .dataframe thead th {\n",
       "        text-align: right;\n",
       "    }\n",
       "</style>\n",
       "<table border=\"1\" class=\"dataframe\">\n",
       "  <thead>\n",
       "    <tr style=\"text-align: right;\">\n",
       "      <th></th>\n",
       "      <th>custAge</th>\n",
       "      <th>profession</th>\n",
       "      <th>marital</th>\n",
       "      <th>schooling</th>\n",
       "      <th>default_1</th>\n",
       "      <th>default_2</th>\n",
       "      <th>housing_1</th>\n",
       "      <th>housing_2</th>\n",
       "      <th>loan_1</th>\n",
       "      <th>loan_2</th>\n",
       "      <th>...</th>\n",
       "      <th>previous</th>\n",
       "      <th>poutcome</th>\n",
       "      <th>emp.var.rate</th>\n",
       "      <th>cons.price.idx</th>\n",
       "      <th>cons.conf.idx</th>\n",
       "      <th>euribor3m</th>\n",
       "      <th>nr.employed</th>\n",
       "      <th>pmonths</th>\n",
       "      <th>pastEmail</th>\n",
       "      <th>responded</th>\n",
       "    </tr>\n",
       "  </thead>\n",
       "  <tbody>\n",
       "    <tr>\n",
       "      <th>0</th>\n",
       "      <td>55.000000</td>\n",
       "      <td>0</td>\n",
       "      <td>2</td>\n",
       "      <td>6</td>\n",
       "      <td>1</td>\n",
       "      <td>0</td>\n",
       "      <td>1</td>\n",
       "      <td>0</td>\n",
       "      <td>1</td>\n",
       "      <td>0</td>\n",
       "      <td>...</td>\n",
       "      <td>0</td>\n",
       "      <td>1</td>\n",
       "      <td>-0.1</td>\n",
       "      <td>93.200</td>\n",
       "      <td>-42.0</td>\n",
       "      <td>4.191</td>\n",
       "      <td>5195.8</td>\n",
       "      <td>999.0</td>\n",
       "      <td>0</td>\n",
       "      <td>0</td>\n",
       "    </tr>\n",
       "    <tr>\n",
       "      <th>1</th>\n",
       "      <td>40.009804</td>\n",
       "      <td>1</td>\n",
       "      <td>1</td>\n",
       "      <td>6</td>\n",
       "      <td>1</td>\n",
       "      <td>0</td>\n",
       "      <td>1</td>\n",
       "      <td>0</td>\n",
       "      <td>1</td>\n",
       "      <td>0</td>\n",
       "      <td>...</td>\n",
       "      <td>0</td>\n",
       "      <td>1</td>\n",
       "      <td>1.4</td>\n",
       "      <td>93.918</td>\n",
       "      <td>-42.7</td>\n",
       "      <td>4.960</td>\n",
       "      <td>5228.1</td>\n",
       "      <td>999.0</td>\n",
       "      <td>0</td>\n",
       "      <td>0</td>\n",
       "    </tr>\n",
       "    <tr>\n",
       "      <th>2</th>\n",
       "      <td>42.000000</td>\n",
       "      <td>9</td>\n",
       "      <td>1</td>\n",
       "      <td>3</td>\n",
       "      <td>1</td>\n",
       "      <td>0</td>\n",
       "      <td>1</td>\n",
       "      <td>0</td>\n",
       "      <td>1</td>\n",
       "      <td>0</td>\n",
       "      <td>...</td>\n",
       "      <td>0</td>\n",
       "      <td>1</td>\n",
       "      <td>1.1</td>\n",
       "      <td>93.994</td>\n",
       "      <td>-36.4</td>\n",
       "      <td>4.857</td>\n",
       "      <td>5191.0</td>\n",
       "      <td>999.0</td>\n",
       "      <td>0</td>\n",
       "      <td>0</td>\n",
       "    </tr>\n",
       "    <tr>\n",
       "      <th>3</th>\n",
       "      <td>55.000000</td>\n",
       "      <td>4</td>\n",
       "      <td>0</td>\n",
       "      <td>6</td>\n",
       "      <td>1</td>\n",
       "      <td>0</td>\n",
       "      <td>0</td>\n",
       "      <td>1</td>\n",
       "      <td>0</td>\n",
       "      <td>1</td>\n",
       "      <td>...</td>\n",
       "      <td>0</td>\n",
       "      <td>1</td>\n",
       "      <td>1.4</td>\n",
       "      <td>93.918</td>\n",
       "      <td>-42.7</td>\n",
       "      <td>4.962</td>\n",
       "      <td>5228.1</td>\n",
       "      <td>999.0</td>\n",
       "      <td>0</td>\n",
       "      <td>0</td>\n",
       "    </tr>\n",
       "    <tr>\n",
       "      <th>4</th>\n",
       "      <td>40.009804</td>\n",
       "      <td>0</td>\n",
       "      <td>0</td>\n",
       "      <td>6</td>\n",
       "      <td>1</td>\n",
       "      <td>0</td>\n",
       "      <td>0</td>\n",
       "      <td>1</td>\n",
       "      <td>1</td>\n",
       "      <td>0</td>\n",
       "      <td>...</td>\n",
       "      <td>1</td>\n",
       "      <td>0</td>\n",
       "      <td>-1.8</td>\n",
       "      <td>92.893</td>\n",
       "      <td>-46.2</td>\n",
       "      <td>1.291</td>\n",
       "      <td>5099.1</td>\n",
       "      <td>999.0</td>\n",
       "      <td>1</td>\n",
       "      <td>0</td>\n",
       "    </tr>\n",
       "  </tbody>\n",
       "</table>\n",
       "<p>5 rows × 25 columns</p>\n",
       "</div>"
      ],
      "text/plain": [
       "     custAge  profession  marital  schooling  default_1  default_2  housing_1  \\\n",
       "0  55.000000           0        2          6          1          0          1   \n",
       "1  40.009804           1        1          6          1          0          1   \n",
       "2  42.000000           9        1          3          1          0          1   \n",
       "3  55.000000           4        0          6          1          0          0   \n",
       "4  40.009804           0        0          6          1          0          0   \n",
       "\n",
       "   housing_2  loan_1  loan_2  ...  previous  poutcome  emp.var.rate  \\\n",
       "0          0       1       0  ...         0         1          -0.1   \n",
       "1          0       1       0  ...         0         1           1.4   \n",
       "2          0       1       0  ...         0         1           1.1   \n",
       "3          1       0       1  ...         0         1           1.4   \n",
       "4          1       1       0  ...         1         0          -1.8   \n",
       "\n",
       "   cons.price.idx  cons.conf.idx  euribor3m  nr.employed  pmonths  pastEmail  \\\n",
       "0          93.200          -42.0      4.191       5195.8    999.0          0   \n",
       "1          93.918          -42.7      4.960       5228.1    999.0          0   \n",
       "2          93.994          -36.4      4.857       5191.0    999.0          0   \n",
       "3          93.918          -42.7      4.962       5228.1    999.0          0   \n",
       "4          92.893          -46.2      1.291       5099.1    999.0          1   \n",
       "\n",
       "   responded  \n",
       "0          0  \n",
       "1          0  \n",
       "2          0  \n",
       "3          0  \n",
       "4          0  \n",
       "\n",
       "[5 rows x 25 columns]"
      ]
     },
     "execution_count": 24,
     "metadata": {},
     "output_type": "execute_result"
    }
   ],
   "source": [
    "#columns to perform one-hot encoding\n",
    "cols_to_ohe=['default',\"housing\",\"loan\"]\n",
    "\n",
    "#one-hot encoding the categorical variables\n",
    "import category_encoders as ce\n",
    "\n",
    "ce_ohe=ce.OneHotEncoder(cols=cols_to_ohe)\n",
    "marketing= ce_ohe.fit_transform(marketing)\n",
    "    \n",
    "marketing.head()"
   ]
  },
  {
   "cell_type": "code",
   "execution_count": 25,
   "metadata": {},
   "outputs": [
    {
     "data": {
      "text/html": [
       "<div>\n",
       "<style scoped>\n",
       "    .dataframe tbody tr th:only-of-type {\n",
       "        vertical-align: middle;\n",
       "    }\n",
       "\n",
       "    .dataframe tbody tr th {\n",
       "        vertical-align: top;\n",
       "    }\n",
       "\n",
       "    .dataframe thead th {\n",
       "        text-align: right;\n",
       "    }\n",
       "</style>\n",
       "<table border=\"1\" class=\"dataframe\">\n",
       "  <thead>\n",
       "    <tr style=\"text-align: right;\">\n",
       "      <th></th>\n",
       "      <th>custAge</th>\n",
       "      <th>profession</th>\n",
       "      <th>marital</th>\n",
       "      <th>schooling</th>\n",
       "      <th>default_1</th>\n",
       "      <th>default_2</th>\n",
       "      <th>housing_1</th>\n",
       "      <th>housing_2</th>\n",
       "      <th>loan_1</th>\n",
       "      <th>loan_2</th>\n",
       "      <th>...</th>\n",
       "      <th>previous</th>\n",
       "      <th>poutcome</th>\n",
       "      <th>emp.var.rate</th>\n",
       "      <th>cons.price.idx</th>\n",
       "      <th>cons.conf.idx</th>\n",
       "      <th>euribor3m</th>\n",
       "      <th>nr.employed</th>\n",
       "      <th>pmonths</th>\n",
       "      <th>pastEmail</th>\n",
       "      <th>responded</th>\n",
       "    </tr>\n",
       "  </thead>\n",
       "  <tbody>\n",
       "    <tr>\n",
       "      <th>0</th>\n",
       "      <td>55.000000</td>\n",
       "      <td>0</td>\n",
       "      <td>2</td>\n",
       "      <td>6</td>\n",
       "      <td>1</td>\n",
       "      <td>0</td>\n",
       "      <td>1</td>\n",
       "      <td>0</td>\n",
       "      <td>1</td>\n",
       "      <td>0</td>\n",
       "      <td>...</td>\n",
       "      <td>0</td>\n",
       "      <td>1</td>\n",
       "      <td>-0.1</td>\n",
       "      <td>93.200</td>\n",
       "      <td>-42.0</td>\n",
       "      <td>4.191</td>\n",
       "      <td>5195.8</td>\n",
       "      <td>-1.0</td>\n",
       "      <td>0</td>\n",
       "      <td>0</td>\n",
       "    </tr>\n",
       "    <tr>\n",
       "      <th>1</th>\n",
       "      <td>40.009804</td>\n",
       "      <td>1</td>\n",
       "      <td>1</td>\n",
       "      <td>6</td>\n",
       "      <td>1</td>\n",
       "      <td>0</td>\n",
       "      <td>1</td>\n",
       "      <td>0</td>\n",
       "      <td>1</td>\n",
       "      <td>0</td>\n",
       "      <td>...</td>\n",
       "      <td>0</td>\n",
       "      <td>1</td>\n",
       "      <td>1.4</td>\n",
       "      <td>93.918</td>\n",
       "      <td>-42.7</td>\n",
       "      <td>4.960</td>\n",
       "      <td>5228.1</td>\n",
       "      <td>-1.0</td>\n",
       "      <td>0</td>\n",
       "      <td>0</td>\n",
       "    </tr>\n",
       "    <tr>\n",
       "      <th>2</th>\n",
       "      <td>42.000000</td>\n",
       "      <td>9</td>\n",
       "      <td>1</td>\n",
       "      <td>3</td>\n",
       "      <td>1</td>\n",
       "      <td>0</td>\n",
       "      <td>1</td>\n",
       "      <td>0</td>\n",
       "      <td>1</td>\n",
       "      <td>0</td>\n",
       "      <td>...</td>\n",
       "      <td>0</td>\n",
       "      <td>1</td>\n",
       "      <td>1.1</td>\n",
       "      <td>93.994</td>\n",
       "      <td>-36.4</td>\n",
       "      <td>4.857</td>\n",
       "      <td>5191.0</td>\n",
       "      <td>-1.0</td>\n",
       "      <td>0</td>\n",
       "      <td>0</td>\n",
       "    </tr>\n",
       "    <tr>\n",
       "      <th>3</th>\n",
       "      <td>55.000000</td>\n",
       "      <td>4</td>\n",
       "      <td>0</td>\n",
       "      <td>6</td>\n",
       "      <td>1</td>\n",
       "      <td>0</td>\n",
       "      <td>0</td>\n",
       "      <td>1</td>\n",
       "      <td>0</td>\n",
       "      <td>1</td>\n",
       "      <td>...</td>\n",
       "      <td>0</td>\n",
       "      <td>1</td>\n",
       "      <td>1.4</td>\n",
       "      <td>93.918</td>\n",
       "      <td>-42.7</td>\n",
       "      <td>4.962</td>\n",
       "      <td>5228.1</td>\n",
       "      <td>-1.0</td>\n",
       "      <td>0</td>\n",
       "      <td>0</td>\n",
       "    </tr>\n",
       "    <tr>\n",
       "      <th>4</th>\n",
       "      <td>40.009804</td>\n",
       "      <td>0</td>\n",
       "      <td>0</td>\n",
       "      <td>6</td>\n",
       "      <td>1</td>\n",
       "      <td>0</td>\n",
       "      <td>0</td>\n",
       "      <td>1</td>\n",
       "      <td>1</td>\n",
       "      <td>0</td>\n",
       "      <td>...</td>\n",
       "      <td>1</td>\n",
       "      <td>0</td>\n",
       "      <td>-1.8</td>\n",
       "      <td>92.893</td>\n",
       "      <td>-46.2</td>\n",
       "      <td>1.291</td>\n",
       "      <td>5099.1</td>\n",
       "      <td>-1.0</td>\n",
       "      <td>1</td>\n",
       "      <td>0</td>\n",
       "    </tr>\n",
       "  </tbody>\n",
       "</table>\n",
       "<p>5 rows × 25 columns</p>\n",
       "</div>"
      ],
      "text/plain": [
       "     custAge  profession  marital  schooling  default_1  default_2  housing_1  \\\n",
       "0  55.000000           0        2          6          1          0          1   \n",
       "1  40.009804           1        1          6          1          0          1   \n",
       "2  42.000000           9        1          3          1          0          1   \n",
       "3  55.000000           4        0          6          1          0          0   \n",
       "4  40.009804           0        0          6          1          0          0   \n",
       "\n",
       "   housing_2  loan_1  loan_2  ...  previous  poutcome  emp.var.rate  \\\n",
       "0          0       1       0  ...         0         1          -0.1   \n",
       "1          0       1       0  ...         0         1           1.4   \n",
       "2          0       1       0  ...         0         1           1.1   \n",
       "3          1       0       1  ...         0         1           1.4   \n",
       "4          1       1       0  ...         1         0          -1.8   \n",
       "\n",
       "   cons.price.idx  cons.conf.idx  euribor3m  nr.employed  pmonths  pastEmail  \\\n",
       "0          93.200          -42.0      4.191       5195.8     -1.0          0   \n",
       "1          93.918          -42.7      4.960       5228.1     -1.0          0   \n",
       "2          93.994          -36.4      4.857       5191.0     -1.0          0   \n",
       "3          93.918          -42.7      4.962       5228.1     -1.0          0   \n",
       "4          92.893          -46.2      1.291       5099.1     -1.0          1   \n",
       "\n",
       "   responded  \n",
       "0          0  \n",
       "1          0  \n",
       "2          0  \n",
       "3          0  \n",
       "4          0  \n",
       "\n",
       "[5 rows x 25 columns]"
      ]
     },
     "execution_count": 25,
     "metadata": {},
     "output_type": "execute_result"
    }
   ],
   "source": [
    "#replacing the 999 value to -1 in pdays and pmonths\n",
    "marketing[\"pdays\"].replace(999,-1,inplace =True)\n",
    "marketing[\"pmonths\"].replace(999,-1,inplace =True)\n",
    "\n",
    "marketing.head(5)"
   ]
  },
  {
   "cell_type": "code",
   "execution_count": 26,
   "metadata": {},
   "outputs": [],
   "source": [
    "#splitting the data into x and y\n",
    "x=marketing.drop(\"responded\",axis=1)\n",
    "y=marketing[\"responded\"]"
   ]
  },
  {
   "cell_type": "markdown",
   "metadata": {},
   "source": [
    "# Standarization of data"
   ]
  },
  {
   "cell_type": "code",
   "execution_count": 27,
   "metadata": {},
   "outputs": [
    {
     "data": {
      "text/html": [
       "<div>\n",
       "<style scoped>\n",
       "    .dataframe tbody tr th:only-of-type {\n",
       "        vertical-align: middle;\n",
       "    }\n",
       "\n",
       "    .dataframe tbody tr th {\n",
       "        vertical-align: top;\n",
       "    }\n",
       "\n",
       "    .dataframe thead th {\n",
       "        text-align: right;\n",
       "    }\n",
       "</style>\n",
       "<table border=\"1\" class=\"dataframe\">\n",
       "  <thead>\n",
       "    <tr style=\"text-align: right;\">\n",
       "      <th></th>\n",
       "      <th>custAge</th>\n",
       "      <th>profession</th>\n",
       "      <th>marital</th>\n",
       "      <th>schooling</th>\n",
       "      <th>default_1</th>\n",
       "      <th>default_2</th>\n",
       "      <th>housing_1</th>\n",
       "      <th>housing_2</th>\n",
       "      <th>loan_1</th>\n",
       "      <th>loan_2</th>\n",
       "      <th>...</th>\n",
       "      <th>pdays</th>\n",
       "      <th>previous</th>\n",
       "      <th>poutcome</th>\n",
       "      <th>emp.var.rate</th>\n",
       "      <th>cons.price.idx</th>\n",
       "      <th>cons.conf.idx</th>\n",
       "      <th>euribor3m</th>\n",
       "      <th>nr.employed</th>\n",
       "      <th>pmonths</th>\n",
       "      <th>pastEmail</th>\n",
       "    </tr>\n",
       "  </thead>\n",
       "  <tbody>\n",
       "    <tr>\n",
       "      <th>0</th>\n",
       "      <td>1.629770e+00</td>\n",
       "      <td>0</td>\n",
       "      <td>2</td>\n",
       "      <td>6</td>\n",
       "      <td>1</td>\n",
       "      <td>0</td>\n",
       "      <td>1</td>\n",
       "      <td>0</td>\n",
       "      <td>1</td>\n",
       "      <td>0</td>\n",
       "      <td>...</td>\n",
       "      <td>-0.178638</td>\n",
       "      <td>-0.356294</td>\n",
       "      <td>1</td>\n",
       "      <td>-0.096978</td>\n",
       "      <td>-0.641025</td>\n",
       "      <td>-0.309429</td>\n",
       "      <td>0.348394</td>\n",
       "      <td>0.418252</td>\n",
       "      <td>-0.201061</td>\n",
       "      <td>-0.286848</td>\n",
       "    </tr>\n",
       "    <tr>\n",
       "      <th>1</th>\n",
       "      <td>7.725190e-16</td>\n",
       "      <td>1</td>\n",
       "      <td>1</td>\n",
       "      <td>6</td>\n",
       "      <td>1</td>\n",
       "      <td>0</td>\n",
       "      <td>1</td>\n",
       "      <td>0</td>\n",
       "      <td>1</td>\n",
       "      <td>0</td>\n",
       "      <td>...</td>\n",
       "      <td>-0.178638</td>\n",
       "      <td>-0.356294</td>\n",
       "      <td>1</td>\n",
       "      <td>0.859475</td>\n",
       "      <td>0.600533</td>\n",
       "      <td>-0.459983</td>\n",
       "      <td>0.789146</td>\n",
       "      <td>0.860089</td>\n",
       "      <td>-0.201061</td>\n",
       "      <td>-0.286848</td>\n",
       "    </tr>\n",
       "    <tr>\n",
       "      <th>2</th>\n",
       "      <td>2.163789e-01</td>\n",
       "      <td>9</td>\n",
       "      <td>1</td>\n",
       "      <td>3</td>\n",
       "      <td>1</td>\n",
       "      <td>0</td>\n",
       "      <td>1</td>\n",
       "      <td>0</td>\n",
       "      <td>1</td>\n",
       "      <td>0</td>\n",
       "      <td>...</td>\n",
       "      <td>-0.178638</td>\n",
       "      <td>-0.356294</td>\n",
       "      <td>1</td>\n",
       "      <td>0.668184</td>\n",
       "      <td>0.731952</td>\n",
       "      <td>0.895006</td>\n",
       "      <td>0.730111</td>\n",
       "      <td>0.352591</td>\n",
       "      <td>-0.201061</td>\n",
       "      <td>-0.286848</td>\n",
       "    </tr>\n",
       "    <tr>\n",
       "      <th>3</th>\n",
       "      <td>1.629770e+00</td>\n",
       "      <td>4</td>\n",
       "      <td>0</td>\n",
       "      <td>6</td>\n",
       "      <td>1</td>\n",
       "      <td>0</td>\n",
       "      <td>0</td>\n",
       "      <td>1</td>\n",
       "      <td>0</td>\n",
       "      <td>1</td>\n",
       "      <td>...</td>\n",
       "      <td>-0.178638</td>\n",
       "      <td>-0.356294</td>\n",
       "      <td>1</td>\n",
       "      <td>0.859475</td>\n",
       "      <td>0.600533</td>\n",
       "      <td>-0.459983</td>\n",
       "      <td>0.790292</td>\n",
       "      <td>0.860089</td>\n",
       "      <td>-0.201061</td>\n",
       "      <td>-0.286848</td>\n",
       "    </tr>\n",
       "    <tr>\n",
       "      <th>4</th>\n",
       "      <td>7.725190e-16</td>\n",
       "      <td>0</td>\n",
       "      <td>0</td>\n",
       "      <td>6</td>\n",
       "      <td>1</td>\n",
       "      <td>0</td>\n",
       "      <td>0</td>\n",
       "      <td>1</td>\n",
       "      <td>1</td>\n",
       "      <td>0</td>\n",
       "      <td>...</td>\n",
       "      <td>-0.178638</td>\n",
       "      <td>1.578915</td>\n",
       "      <td>0</td>\n",
       "      <td>-1.180959</td>\n",
       "      <td>-1.171886</td>\n",
       "      <td>-1.212754</td>\n",
       "      <td>-1.313738</td>\n",
       "      <td>-0.904526</td>\n",
       "      <td>-0.201061</td>\n",
       "      <td>0.505806</td>\n",
       "    </tr>\n",
       "  </tbody>\n",
       "</table>\n",
       "<p>5 rows × 24 columns</p>\n",
       "</div>"
      ],
      "text/plain": [
       "        custAge  profession  marital  schooling  default_1  default_2  \\\n",
       "0  1.629770e+00           0        2          6          1          0   \n",
       "1  7.725190e-16           1        1          6          1          0   \n",
       "2  2.163789e-01           9        1          3          1          0   \n",
       "3  1.629770e+00           4        0          6          1          0   \n",
       "4  7.725190e-16           0        0          6          1          0   \n",
       "\n",
       "   housing_1  housing_2  loan_1  loan_2  ...     pdays  previous  poutcome  \\\n",
       "0          1          0       1       0  ... -0.178638 -0.356294         1   \n",
       "1          1          0       1       0  ... -0.178638 -0.356294         1   \n",
       "2          1          0       1       0  ... -0.178638 -0.356294         1   \n",
       "3          0          1       0       1  ... -0.178638 -0.356294         1   \n",
       "4          0          1       1       0  ... -0.178638  1.578915         0   \n",
       "\n",
       "   emp.var.rate  cons.price.idx  cons.conf.idx  euribor3m  nr.employed  \\\n",
       "0     -0.096978       -0.641025      -0.309429   0.348394     0.418252   \n",
       "1      0.859475        0.600533      -0.459983   0.789146     0.860089   \n",
       "2      0.668184        0.731952       0.895006   0.730111     0.352591   \n",
       "3      0.859475        0.600533      -0.459983   0.790292     0.860089   \n",
       "4     -1.180959       -1.171886      -1.212754  -1.313738    -0.904526   \n",
       "\n",
       "    pmonths  pastEmail  \n",
       "0 -0.201061  -0.286848  \n",
       "1 -0.201061  -0.286848  \n",
       "2 -0.201061  -0.286848  \n",
       "3 -0.201061  -0.286848  \n",
       "4 -0.201061   0.505806  \n",
       "\n",
       "[5 rows x 24 columns]"
      ]
     },
     "execution_count": 27,
     "metadata": {},
     "output_type": "execute_result"
    }
   ],
   "source": [
    "#standardization of data\n",
    "cnames=[\"custAge\",\"campaign\",\"pdays\",\"previous\",\"emp.var.rate\",\"cons.price.idx\",\"cons.conf.idx\",\n",
    "        \"euribor3m\",\"nr.employed\",\"pmonths\",\"pastEmail\"]\n",
    "\n",
    "from sklearn.preprocessing import StandardScaler\n",
    "sc= StandardScaler()\n",
    "for col in cnames:\n",
    "    x[col]=sc.fit_transform(x[col].values.reshape(-1,1))\n",
    "    \n",
    "x.head()"
   ]
  },
  {
   "cell_type": "code",
   "execution_count": 28,
   "metadata": {},
   "outputs": [],
   "source": [
    "from sklearn.model_selection import train_test_split\n",
    "\n",
    "x_train,x_test,y_train,y_test=train_test_split(x,y,test_size=0.2,random_state=0)"
   ]
  },
  {
   "cell_type": "markdown",
   "metadata": {},
   "source": [
    "# Fitting a Logistic Regression Model"
   ]
  },
  {
   "cell_type": "code",
   "execution_count": 29,
   "metadata": {},
   "outputs": [
    {
     "name": "stderr",
     "output_type": "stream",
     "text": [
      "C:\\ProgramData\\Anaconda3\\lib\\site-packages\\sklearn\\linear_model\\logistic.py:432: FutureWarning: Default solver will be changed to 'lbfgs' in 0.22. Specify a solver to silence this warning.\n",
      "  FutureWarning)\n"
     ]
    }
   ],
   "source": [
    "#using logistic regression model to the training set\n",
    "from sklearn.linear_model import LogisticRegression\n",
    "classifier_log=LogisticRegression()\n",
    "model=classifier_log.fit(x_train,y_train)"
   ]
  },
  {
   "cell_type": "code",
   "execution_count": 30,
   "metadata": {},
   "outputs": [],
   "source": [
    "#predicting on the test data\n",
    "y_pred_log=classifier_log.predict(x_test)"
   ]
  },
  {
   "cell_type": "code",
   "execution_count": 31,
   "metadata": {},
   "outputs": [
    {
     "name": "stdout",
     "output_type": "stream",
     "text": [
      "91.43627781523938\n"
     ]
    }
   ],
   "source": [
    "\n",
    "#checking on teh accuracy of the model\n",
    "from sklearn.metrics import accuracy_score\n",
    "print(accuracy_score(y_pred_log,y_test)*100)"
   ]
  },
  {
   "cell_type": "markdown",
   "metadata": {},
   "source": [
    "# Fitting a decision tree model"
   ]
  },
  {
   "cell_type": "code",
   "execution_count": 32,
   "metadata": {},
   "outputs": [],
   "source": [
    "#fitting the decision_tree model\n",
    "from sklearn.tree import DecisionTreeClassifier\n",
    "classifier_tree= DecisionTreeClassifier()\n",
    "model= classifier_tree.fit(x_train,y_train)\n"
   ]
  },
  {
   "cell_type": "code",
   "execution_count": 33,
   "metadata": {},
   "outputs": [],
   "source": [
    "\n",
    "#predicting on the test data\n",
    "y_pred_tree=classifier_tree.predict(x_test)"
   ]
  },
  {
   "cell_type": "code",
   "execution_count": 34,
   "metadata": {},
   "outputs": [
    {
     "name": "stdout",
     "output_type": "stream",
     "text": [
      "84.49089683074848\n"
     ]
    }
   ],
   "source": [
    "\n",
    "#checking on teh accuracy of the model\n",
    "from sklearn.metrics import accuracy_score\n",
    "print(accuracy_score(y_pred_tree,y_test)*100)"
   ]
  },
  {
   "cell_type": "markdown",
   "metadata": {},
   "source": [
    "# Fitting a RandomForestClassifier"
   ]
  },
  {
   "cell_type": "code",
   "execution_count": 35,
   "metadata": {},
   "outputs": [],
   "source": [
    "from sklearn.ensemble import RandomForestClassifier\n",
    "classifier_forest= RandomForestClassifier(n_estimators=100,criterion=\"entropy\",random_state=0)\n",
    "model=classifier_forest.fit(x_train,y_train)"
   ]
  },
  {
   "cell_type": "code",
   "execution_count": 36,
   "metadata": {},
   "outputs": [],
   "source": [
    "#predicting on the test data\n",
    "y_pred_forest=classifier_forest.predict(x_test)"
   ]
  },
  {
   "cell_type": "code",
   "execution_count": 37,
   "metadata": {},
   "outputs": [
    {
     "name": "stdout",
     "output_type": "stream",
     "text": [
      "90.22252191503709\n"
     ]
    }
   ],
   "source": [
    "#checking on teh accuracy of the model\n",
    "from sklearn.metrics import accuracy_score\n",
    "print(accuracy_score(y_pred_forest,y_test)*100)"
   ]
  },
  {
   "cell_type": "markdown",
   "metadata": {},
   "source": [
    "# ROC Curve"
   ]
  },
  {
   "cell_type": "code",
   "execution_count": 38,
   "metadata": {},
   "outputs": [
    {
     "data": {
      "text/plain": [
       "array([[0.99, 0.01],\n",
       "       [1.  , 0.  ],\n",
       "       [0.99, 0.01],\n",
       "       ...,\n",
       "       [0.98, 0.02],\n",
       "       [0.97, 0.03],\n",
       "       [1.  , 0.  ]])"
      ]
     },
     "execution_count": 38,
     "metadata": {},
     "output_type": "execute_result"
    }
   ],
   "source": [
    "probs=classifier_forest.predict_proba(x_test)\n",
    "probs"
   ]
  },
  {
   "cell_type": "code",
   "execution_count": 39,
   "metadata": {},
   "outputs": [
    {
     "name": "stdout",
     "output_type": "stream",
     "text": [
      "Area under the curve: 0.759500097162845\n"
     ]
    }
   ],
   "source": [
    "#keep probabilitiesof the positive calss only\n",
    "from sklearn import metrics\n",
    "prob_positive=probs[:,1]\n",
    "fpr,tpr,threshold =metrics.roc_curve(y_test,prob_positive)\n",
    "roc_auc=metrics.auc(fpr,tpr)\n",
    "print(\"Area under the curve:\",roc_auc)"
   ]
  },
  {
   "cell_type": "code",
   "execution_count": 40,
   "metadata": {},
   "outputs": [
    {
     "data": {
      "image/png": "[encoded data removed]",
      "text/plain": [
       "<Figure size 432x288 with 1 Axes>"
      ]
     },
     "metadata": {
      "needs_background": "light"
     },
     "output_type": "display_data"
    }
   ],
   "source": [
    "#plot roc curve\n",
    "plt.title(\"Receiver operating Characteristic\")\n",
    "plt.plot(fpr,tpr,\"orange\",label = \"AUC = %0.2f\" % roc_auc)\n",
    "plt.legend(loc=\"upper left\")\n",
    "plt.plot([0,1],[0,1],color=\"darkblue\",linestyle=\"--\")\n",
    "plt.ylabel(\"True Positive Rate\")\n",
    "plt.xlabel(\"False Positive Rate\")\n",
    "plt.show()"
   ]
  },
  {
   "cell_type": "markdown",
   "metadata": {},
   "source": [
    "# K FOLD"
   ]
  },
  {
   "cell_type": "code",
   "execution_count": 41,
   "metadata": {},
   "outputs": [
    {
     "data": {
      "text/plain": [
       "numpy.ndarray"
      ]
     },
     "execution_count": 41,
     "metadata": {},
     "output_type": "execute_result"
    }
   ],
   "source": [
    "x= x.to_numpy()\n",
    "type(x)"
   ]
  },
  {
   "cell_type": "code",
   "execution_count": 42,
   "metadata": {},
   "outputs": [
    {
     "name": "stdout",
     "output_type": "stream",
     "text": [
      "Train: 0=5256, 1=675, Test: 0=1318, 1=165\n",
      "Train: 0=5260, 1=671, Test: 0=1314, 1=169\n",
      "Train: 0=5259, 1=672, Test: 0=1315, 1=168\n",
      "Train: 0=5260, 1=671, Test: 0=1314, 1=169\n",
      "Train: 0=5261, 1=671, Test: 0=1313, 1=169\n"
     ]
    }
   ],
   "source": [
    "from sklearn.model_selection import KFold\n",
    "kfold = KFold(n_splits=5, shuffle=True)\n",
    "\n",
    "# enumerate the splits and summarize the distributions\n",
    "for train_ix, test_ix in kfold.split(x, y):\n",
    "    # select rows\n",
    "    train_X, test_X = x[train_ix], x[test_ix]\n",
    "    train_y, test_y = y[train_ix], y[test_ix]\n",
    "    \n",
    "    # summarize train and test composition\n",
    "    train_0, train_1 = len(train_y[train_y==0]), len(train_y[train_y==1])\n",
    "    test_0, test_1 = len(test_y[test_y==0]), len(test_y[test_y==1])\n",
    "    print('Train: 0=%d, 1=%d, Test: 0=%d, 1=%d' % (train_0, train_1, test_0, test_1))\n"
   ]
  },
  {
   "cell_type": "markdown",
   "metadata": {},
   "source": [
    "### k fold validation will not distribute minority and majoritycalss samples in a approprieate ratio .For imbalanced class problem, we need to divide the samples of minority and majority classes into appropriateratio in train set and test set"
   ]
  },
  {
   "cell_type": "code",
   "execution_count": 43,
   "metadata": {},
   "outputs": [
    {
     "name": "stdout",
     "output_type": "stream",
     "text": [
      "Train: 0=5916, 1=756, Test: 0=658, 1=84\n",
      "Train: 0=5916, 1=756, Test: 0=658, 1=84\n",
      "Train: 0=5916, 1=756, Test: 0=658, 1=84\n",
      "Train: 0=5916, 1=756, Test: 0=658, 1=84\n",
      "Train: 0=5917, 1=756, Test: 0=657, 1=84\n",
      "Train: 0=5917, 1=756, Test: 0=657, 1=84\n",
      "Train: 0=5917, 1=756, Test: 0=657, 1=84\n",
      "Train: 0=5917, 1=756, Test: 0=657, 1=84\n",
      "Train: 0=5917, 1=756, Test: 0=657, 1=84\n",
      "Train: 0=5917, 1=756, Test: 0=657, 1=84\n",
      "Scores from each prediction: [0.898921832884097, 0.889487870619946, 0.8854447439353099, 0.898921832884097, 0.8879892037786775, 0.8852901484480432, 0.9055330634278003, 0.8987854251012146, 0.8906882591093117, 0.8947368421052632]\n",
      "\n",
      "Average startified k-fold score: 0.893579922229376\n"
     ]
    }
   ],
   "source": [
    "from sklearn.model_selection import StratifiedKFold\n",
    "\n",
    "strata_kfold = StratifiedKFold(n_splits=10, shuffle=True, random_state=1)\n",
    "\n",
    "scores=[]\n",
    "\n",
    "# enumerate the splits and summarize the distributions\n",
    "for train_ix, test_ix in strata_kfold.split(x, y):\n",
    "    # select rows\n",
    "    train_X, test_X = x[train_ix], x[test_ix]\n",
    "    train_y, test_y = y[train_ix], y[test_ix]\n",
    "    # summarize train and test composition\n",
    "    train_0, train_1 = len(train_y[train_y==0]), len(train_y[train_y==1])\n",
    "    test_0, test_1 = len(test_y[test_y==0]), len(test_y[test_y==1])\n",
    "    print('Train: 0=%d, 1=%d, Test: 0=%d, 1=%d' % (train_0, train_1, test_0, test_1))\n",
    "    model = classifier_forest.fit(train_X, train_y)\n",
    "    predictions=classifier_forest.predict(test_X)\n",
    "    scores.append(model.score(test_X,test_y))\n",
    "    \n",
    "    \n",
    "\n",
    "print('Scores from each prediction:', scores)\n",
    "print('\\nAverage startified k-fold score:', np.mean(scores))   \n"
   ]
  },
  {
   "cell_type": "code",
   "execution_count": 44,
   "metadata": {},
   "outputs": [
    {
     "name": "stdout",
     "output_type": "stream",
     "text": [
      "Train: 0=5916, 1=756, Test: 0=658, 1=84\n",
      "Train: 0=5916, 1=756, Test: 0=658, 1=84\n",
      "Train: 0=5916, 1=756, Test: 0=658, 1=84\n",
      "Train: 0=5916, 1=756, Test: 0=658, 1=84\n",
      "Train: 0=5917, 1=756, Test: 0=657, 1=84\n",
      "Train: 0=5917, 1=756, Test: 0=657, 1=84\n",
      "Train: 0=5917, 1=756, Test: 0=657, 1=84\n",
      "Train: 0=5917, 1=756, Test: 0=657, 1=84\n",
      "Train: 0=5917, 1=756, Test: 0=657, 1=84\n",
      "Train: 0=5917, 1=756, Test: 0=657, 1=84\n",
      "\n",
      "Scores from each prediction: [0.898921832884097, 0.889487870619946, 0.8854447439353099, 0.898921832884097, 0.8879892037786775, 0.8852901484480432, 0.9055330634278003, 0.8987854251012146, 0.8906882591093117, 0.8947368421052632]\n",
      "\n",
      "Average startified k-fold score: 0.893579922229376\n",
      "\n",
      " AUC  from each prediction: [0.7662016934433347, 0.7584129396439427, 0.7041720943696628, 0.7085685337964974, 0.7759114300210191, 0.7695151119808654, 0.7995941146626078, 0.781256794955425, 0.7853609480321809, 0.7780767558164817]\n",
      "\n",
      "Average startified k-fold AUC score: 0.7627070416722017\n"
     ]
    }
   ],
   "source": [
    "# code for generating auc-score for all the starified samples \n",
    "from sklearn.model_selection import StratifiedKFold\n",
    "\n",
    "strata_kfold = StratifiedKFold(n_splits=10, shuffle=True, random_state=1)\n",
    "\n",
    "scores=[]\n",
    "auc_list=[]\n",
    "\n",
    "# enumerate the splits and summarize the distributions\n",
    "for train_ix, test_ix in strata_kfold.split(x, y):\n",
    "    # select rows\n",
    "    train_X, test_X = x[train_ix], x[test_ix]\n",
    "    train_y, test_y = y[train_ix], y[test_ix]\n",
    "    # summarize train and test composition\n",
    "    train_0, train_1 = len(train_y[train_y==0]), len(train_y[train_y==1])\n",
    "    test_0, test_1 = len(test_y[test_y==0]), len(test_y[test_y==1])\n",
    "    print('Train: 0=%d, 1=%d, Test: 0=%d, 1=%d' % (train_0, train_1, test_0, test_1))\n",
    "    model = classifier_forest.fit(train_X, train_y)\n",
    "    predictions=classifier_forest.predict(test_X)\n",
    "    scores.append(model.score(test_X,test_y))\n",
    "    \n",
    "    \n",
    "    #code to print the auc score for each sample generated\n",
    "    probs=classifier_forest.predict_proba(test_X)\n",
    "    from sklearn import metrics\n",
    "    prob_positive=probs[:,1]\n",
    "    fpr,tpr,threshold =metrics.roc_curve(test_y,prob_positive)\n",
    "    roc_auc=metrics.auc(fpr,tpr)\n",
    "    \n",
    "    \n",
    "    #append  auc-score into the auc_list\n",
    "    auc_list.append(roc_auc)\n",
    "    \n",
    "    \n",
    "print('\\nScores from each prediction:', scores)\n",
    "print('\\nAverage startified k-fold score:', np.mean(scores))\n",
    "print('\\n AUC  from each prediction:', auc_list)\n",
    "print('\\nAverage startified k-fold AUC score:', np.mean(auc_list))  \n"
   ]
  },
  {
   "cell_type": "markdown",
   "metadata": {},
   "source": [
    "# UP-SAMPLING/ OVER-SAMPLING"
   ]
  },
  {
   "cell_type": "code",
   "execution_count": 45,
   "metadata": {},
   "outputs": [
    {
     "name": "stdout",
     "output_type": "stream",
     "text": [
      "0    6574\n",
      "1     840\n",
      "Name: responded, dtype: int64\n"
     ]
    }
   ],
   "source": [
    "print(marketing[\"responded\"].value_counts())\n",
    "df_majority=marketing[marketing.responded==0]\n",
    "df_minority=marketing[marketing.responded==1]"
   ]
  },
  {
   "cell_type": "code",
   "execution_count": 46,
   "metadata": {},
   "outputs": [],
   "source": [
    "import sklearn.utils as ut\n",
    "#up-sample minority class\n",
    "df_minority_upsampled=ut.resample(df_minority,\n",
    "                                  replace=True, #sample with replacement\n",
    "                                  n_samples=6574, # to match majority class\n",
    "                                  random_state=1) #reproducible results"
   ]
  },
  {
   "cell_type": "code",
   "execution_count": 47,
   "metadata": {},
   "outputs": [],
   "source": [
    "#combine majority class with upsampled minority class\n",
    "df_upsampled=pd.concat([df_majority,df_minority_upsampled])"
   ]
  },
  {
   "cell_type": "code",
   "execution_count": 48,
   "metadata": {},
   "outputs": [
    {
     "data": {
      "text/plain": [
       "1    6574\n",
       "0    6574\n",
       "Name: responded, dtype: int64"
      ]
     },
     "execution_count": 48,
     "metadata": {},
     "output_type": "execute_result"
    }
   ],
   "source": [
    "#dispaly new class counts\n",
    "df_upsampled.responded.value_counts()"
   ]
  },
  {
   "cell_type": "code",
   "execution_count": 49,
   "metadata": {},
   "outputs": [
    {
     "data": {
      "text/html": [
       "<div>\n",
       "<style scoped>\n",
       "    .dataframe tbody tr th:only-of-type {\n",
       "        vertical-align: middle;\n",
       "    }\n",
       "\n",
       "    .dataframe tbody tr th {\n",
       "        vertical-align: top;\n",
       "    }\n",
       "\n",
       "    .dataframe thead th {\n",
       "        text-align: right;\n",
       "    }\n",
       "</style>\n",
       "<table border=\"1\" class=\"dataframe\">\n",
       "  <thead>\n",
       "    <tr style=\"text-align: right;\">\n",
       "      <th></th>\n",
       "      <th>custAge</th>\n",
       "      <th>profession</th>\n",
       "      <th>marital</th>\n",
       "      <th>schooling</th>\n",
       "      <th>default_1</th>\n",
       "      <th>default_2</th>\n",
       "      <th>housing_1</th>\n",
       "      <th>housing_2</th>\n",
       "      <th>loan_1</th>\n",
       "      <th>loan_2</th>\n",
       "      <th>...</th>\n",
       "      <th>previous</th>\n",
       "      <th>poutcome</th>\n",
       "      <th>emp.var.rate</th>\n",
       "      <th>cons.price.idx</th>\n",
       "      <th>cons.conf.idx</th>\n",
       "      <th>euribor3m</th>\n",
       "      <th>nr.employed</th>\n",
       "      <th>pmonths</th>\n",
       "      <th>pastEmail</th>\n",
       "      <th>responded</th>\n",
       "    </tr>\n",
       "  </thead>\n",
       "  <tbody>\n",
       "    <tr>\n",
       "      <th>0</th>\n",
       "      <td>55.000000</td>\n",
       "      <td>0</td>\n",
       "      <td>2</td>\n",
       "      <td>6</td>\n",
       "      <td>1</td>\n",
       "      <td>0</td>\n",
       "      <td>1</td>\n",
       "      <td>0</td>\n",
       "      <td>1</td>\n",
       "      <td>0</td>\n",
       "      <td>...</td>\n",
       "      <td>0</td>\n",
       "      <td>1</td>\n",
       "      <td>-0.1</td>\n",
       "      <td>93.200</td>\n",
       "      <td>-42.0</td>\n",
       "      <td>4.191</td>\n",
       "      <td>5195.8</td>\n",
       "      <td>-1.0</td>\n",
       "      <td>0</td>\n",
       "      <td>0</td>\n",
       "    </tr>\n",
       "    <tr>\n",
       "      <th>1</th>\n",
       "      <td>40.009804</td>\n",
       "      <td>1</td>\n",
       "      <td>1</td>\n",
       "      <td>6</td>\n",
       "      <td>1</td>\n",
       "      <td>0</td>\n",
       "      <td>1</td>\n",
       "      <td>0</td>\n",
       "      <td>1</td>\n",
       "      <td>0</td>\n",
       "      <td>...</td>\n",
       "      <td>0</td>\n",
       "      <td>1</td>\n",
       "      <td>1.4</td>\n",
       "      <td>93.918</td>\n",
       "      <td>-42.7</td>\n",
       "      <td>4.960</td>\n",
       "      <td>5228.1</td>\n",
       "      <td>-1.0</td>\n",
       "      <td>0</td>\n",
       "      <td>0</td>\n",
       "    </tr>\n",
       "    <tr>\n",
       "      <th>2</th>\n",
       "      <td>42.000000</td>\n",
       "      <td>9</td>\n",
       "      <td>1</td>\n",
       "      <td>3</td>\n",
       "      <td>1</td>\n",
       "      <td>0</td>\n",
       "      <td>1</td>\n",
       "      <td>0</td>\n",
       "      <td>1</td>\n",
       "      <td>0</td>\n",
       "      <td>...</td>\n",
       "      <td>0</td>\n",
       "      <td>1</td>\n",
       "      <td>1.1</td>\n",
       "      <td>93.994</td>\n",
       "      <td>-36.4</td>\n",
       "      <td>4.857</td>\n",
       "      <td>5191.0</td>\n",
       "      <td>-1.0</td>\n",
       "      <td>0</td>\n",
       "      <td>0</td>\n",
       "    </tr>\n",
       "    <tr>\n",
       "      <th>3</th>\n",
       "      <td>55.000000</td>\n",
       "      <td>4</td>\n",
       "      <td>0</td>\n",
       "      <td>6</td>\n",
       "      <td>1</td>\n",
       "      <td>0</td>\n",
       "      <td>0</td>\n",
       "      <td>1</td>\n",
       "      <td>0</td>\n",
       "      <td>1</td>\n",
       "      <td>...</td>\n",
       "      <td>0</td>\n",
       "      <td>1</td>\n",
       "      <td>1.4</td>\n",
       "      <td>93.918</td>\n",
       "      <td>-42.7</td>\n",
       "      <td>4.962</td>\n",
       "      <td>5228.1</td>\n",
       "      <td>-1.0</td>\n",
       "      <td>0</td>\n",
       "      <td>0</td>\n",
       "    </tr>\n",
       "    <tr>\n",
       "      <th>4</th>\n",
       "      <td>40.009804</td>\n",
       "      <td>0</td>\n",
       "      <td>0</td>\n",
       "      <td>6</td>\n",
       "      <td>1</td>\n",
       "      <td>0</td>\n",
       "      <td>0</td>\n",
       "      <td>1</td>\n",
       "      <td>1</td>\n",
       "      <td>0</td>\n",
       "      <td>...</td>\n",
       "      <td>1</td>\n",
       "      <td>0</td>\n",
       "      <td>-1.8</td>\n",
       "      <td>92.893</td>\n",
       "      <td>-46.2</td>\n",
       "      <td>1.291</td>\n",
       "      <td>5099.1</td>\n",
       "      <td>-1.0</td>\n",
       "      <td>1</td>\n",
       "      <td>0</td>\n",
       "    </tr>\n",
       "  </tbody>\n",
       "</table>\n",
       "<p>5 rows × 25 columns</p>\n",
       "</div>"
      ],
      "text/plain": [
       "     custAge  profession  marital  schooling  default_1  default_2  housing_1  \\\n",
       "0  55.000000           0        2          6          1          0          1   \n",
       "1  40.009804           1        1          6          1          0          1   \n",
       "2  42.000000           9        1          3          1          0          1   \n",
       "3  55.000000           4        0          6          1          0          0   \n",
       "4  40.009804           0        0          6          1          0          0   \n",
       "\n",
       "   housing_2  loan_1  loan_2  ...  previous  poutcome  emp.var.rate  \\\n",
       "0          0       1       0  ...         0         1          -0.1   \n",
       "1          0       1       0  ...         0         1           1.4   \n",
       "2          0       1       0  ...         0         1           1.1   \n",
       "3          1       0       1  ...         0         1           1.4   \n",
       "4          1       1       0  ...         1         0          -1.8   \n",
       "\n",
       "   cons.price.idx  cons.conf.idx  euribor3m  nr.employed  pmonths  pastEmail  \\\n",
       "0          93.200          -42.0      4.191       5195.8     -1.0          0   \n",
       "1          93.918          -42.7      4.960       5228.1     -1.0          0   \n",
       "2          93.994          -36.4      4.857       5191.0     -1.0          0   \n",
       "3          93.918          -42.7      4.962       5228.1     -1.0          0   \n",
       "4          92.893          -46.2      1.291       5099.1     -1.0          1   \n",
       "\n",
       "   responded  \n",
       "0          0  \n",
       "1          0  \n",
       "2          0  \n",
       "3          0  \n",
       "4          0  \n",
       "\n",
       "[5 rows x 25 columns]"
      ]
     },
     "execution_count": 49,
     "metadata": {},
     "output_type": "execute_result"
    }
   ],
   "source": [
    "df_upsampled.head()"
   ]
  },
  {
   "cell_type": "code",
   "execution_count": 50,
   "metadata": {},
   "outputs": [
    {
     "data": {
      "text/plain": [
       "(13148, 25)"
      ]
     },
     "execution_count": 50,
     "metadata": {},
     "output_type": "execute_result"
    }
   ],
   "source": [
    "df_upsampled.shape"
   ]
  },
  {
   "cell_type": "markdown",
   "metadata": {},
   "source": [
    "#### for upsampling we took non-standardized values, we need to standaradize t now"
   ]
  },
  {
   "cell_type": "code",
   "execution_count": 51,
   "metadata": {},
   "outputs": [],
   "source": [
    "x_upsampled=df_upsampled.drop(\"responded\",axis=1)\n",
    "y_upsampled=df_upsampled[\"responded\"]"
   ]
  },
  {
   "cell_type": "code",
   "execution_count": 52,
   "metadata": {},
   "outputs": [
    {
     "data": {
      "text/html": [
       "<div>\n",
       "<style scoped>\n",
       "    .dataframe tbody tr th:only-of-type {\n",
       "        vertical-align: middle;\n",
       "    }\n",
       "\n",
       "    .dataframe tbody tr th {\n",
       "        vertical-align: top;\n",
       "    }\n",
       "\n",
       "    .dataframe thead th {\n",
       "        text-align: right;\n",
       "    }\n",
       "</style>\n",
       "<table border=\"1\" class=\"dataframe\">\n",
       "  <thead>\n",
       "    <tr style=\"text-align: right;\">\n",
       "      <th></th>\n",
       "      <th>custAge</th>\n",
       "      <th>profession</th>\n",
       "      <th>marital</th>\n",
       "      <th>schooling</th>\n",
       "      <th>default_1</th>\n",
       "      <th>default_2</th>\n",
       "      <th>housing_1</th>\n",
       "      <th>housing_2</th>\n",
       "      <th>loan_1</th>\n",
       "      <th>loan_2</th>\n",
       "      <th>...</th>\n",
       "      <th>pdays</th>\n",
       "      <th>previous</th>\n",
       "      <th>poutcome</th>\n",
       "      <th>emp.var.rate</th>\n",
       "      <th>cons.price.idx</th>\n",
       "      <th>cons.conf.idx</th>\n",
       "      <th>euribor3m</th>\n",
       "      <th>nr.employed</th>\n",
       "      <th>pmonths</th>\n",
       "      <th>pastEmail</th>\n",
       "    </tr>\n",
       "  </thead>\n",
       "  <tbody>\n",
       "    <tr>\n",
       "      <th>0</th>\n",
       "      <td>1.377180</td>\n",
       "      <td>0</td>\n",
       "      <td>2</td>\n",
       "      <td>6</td>\n",
       "      <td>1</td>\n",
       "      <td>0</td>\n",
       "      <td>1</td>\n",
       "      <td>0</td>\n",
       "      <td>1</td>\n",
       "      <td>0</td>\n",
       "      <td>...</td>\n",
       "      <td>-0.325314</td>\n",
       "      <td>-0.453227</td>\n",
       "      <td>1</td>\n",
       "      <td>0.263351</td>\n",
       "      <td>-0.431335</td>\n",
       "      <td>-0.297790</td>\n",
       "      <td>0.690567</td>\n",
       "      <td>0.731752</td>\n",
       "      <td>-0.367893</td>\n",
       "      <td>-0.356188</td>\n",
       "    </tr>\n",
       "    <tr>\n",
       "      <th>1</th>\n",
       "      <td>-0.037966</td>\n",
       "      <td>1</td>\n",
       "      <td>1</td>\n",
       "      <td>6</td>\n",
       "      <td>1</td>\n",
       "      <td>0</td>\n",
       "      <td>1</td>\n",
       "      <td>0</td>\n",
       "      <td>1</td>\n",
       "      <td>0</td>\n",
       "      <td>...</td>\n",
       "      <td>-0.325314</td>\n",
       "      <td>-0.453227</td>\n",
       "      <td>1</td>\n",
       "      <td>1.141928</td>\n",
       "      <td>0.705235</td>\n",
       "      <td>-0.426537</td>\n",
       "      <td>1.098455</td>\n",
       "      <td>1.103462</td>\n",
       "      <td>-0.367893</td>\n",
       "      <td>-0.356188</td>\n",
       "    </tr>\n",
       "    <tr>\n",
       "      <th>2</th>\n",
       "      <td>0.149918</td>\n",
       "      <td>9</td>\n",
       "      <td>1</td>\n",
       "      <td>3</td>\n",
       "      <td>1</td>\n",
       "      <td>0</td>\n",
       "      <td>1</td>\n",
       "      <td>0</td>\n",
       "      <td>1</td>\n",
       "      <td>0</td>\n",
       "      <td>...</td>\n",
       "      <td>-0.325314</td>\n",
       "      <td>-0.453227</td>\n",
       "      <td>1</td>\n",
       "      <td>0.966213</td>\n",
       "      <td>0.825541</td>\n",
       "      <td>0.732185</td>\n",
       "      <td>1.043823</td>\n",
       "      <td>0.676513</td>\n",
       "      <td>-0.367893</td>\n",
       "      <td>-0.356188</td>\n",
       "    </tr>\n",
       "    <tr>\n",
       "      <th>3</th>\n",
       "      <td>1.377180</td>\n",
       "      <td>4</td>\n",
       "      <td>0</td>\n",
       "      <td>6</td>\n",
       "      <td>1</td>\n",
       "      <td>0</td>\n",
       "      <td>0</td>\n",
       "      <td>1</td>\n",
       "      <td>0</td>\n",
       "      <td>1</td>\n",
       "      <td>...</td>\n",
       "      <td>-0.325314</td>\n",
       "      <td>-0.453227</td>\n",
       "      <td>1</td>\n",
       "      <td>1.141928</td>\n",
       "      <td>0.705235</td>\n",
       "      <td>-0.426537</td>\n",
       "      <td>1.099516</td>\n",
       "      <td>1.103462</td>\n",
       "      <td>-0.367893</td>\n",
       "      <td>-0.356188</td>\n",
       "    </tr>\n",
       "    <tr>\n",
       "      <th>4</th>\n",
       "      <td>-0.037966</td>\n",
       "      <td>0</td>\n",
       "      <td>0</td>\n",
       "      <td>6</td>\n",
       "      <td>1</td>\n",
       "      <td>0</td>\n",
       "      <td>0</td>\n",
       "      <td>1</td>\n",
       "      <td>1</td>\n",
       "      <td>0</td>\n",
       "      <td>...</td>\n",
       "      <td>-0.325314</td>\n",
       "      <td>0.946264</td>\n",
       "      <td>0</td>\n",
       "      <td>-0.732371</td>\n",
       "      <td>-0.917306</td>\n",
       "      <td>-1.070271</td>\n",
       "      <td>-0.847633</td>\n",
       "      <td>-0.381078</td>\n",
       "      <td>-0.367893</td>\n",
       "      <td>0.213331</td>\n",
       "    </tr>\n",
       "  </tbody>\n",
       "</table>\n",
       "<p>5 rows × 24 columns</p>\n",
       "</div>"
      ],
      "text/plain": [
       "    custAge  profession  marital  schooling  default_1  default_2  housing_1  \\\n",
       "0  1.377180           0        2          6          1          0          1   \n",
       "1 -0.037966           1        1          6          1          0          1   \n",
       "2  0.149918           9        1          3          1          0          1   \n",
       "3  1.377180           4        0          6          1          0          0   \n",
       "4 -0.037966           0        0          6          1          0          0   \n",
       "\n",
       "   housing_2  loan_1  loan_2  ...     pdays  previous  poutcome  emp.var.rate  \\\n",
       "0          0       1       0  ... -0.325314 -0.453227         1      0.263351   \n",
       "1          0       1       0  ... -0.325314 -0.453227         1      1.141928   \n",
       "2          0       1       0  ... -0.325314 -0.453227         1      0.966213   \n",
       "3          1       0       1  ... -0.325314 -0.453227         1      1.141928   \n",
       "4          1       1       0  ... -0.325314  0.946264         0     -0.732371   \n",
       "\n",
       "   cons.price.idx  cons.conf.idx  euribor3m  nr.employed   pmonths  pastEmail  \n",
       "0       -0.431335      -0.297790   0.690567     0.731752 -0.367893  -0.356188  \n",
       "1        0.705235      -0.426537   1.098455     1.103462 -0.367893  -0.356188  \n",
       "2        0.825541       0.732185   1.043823     0.676513 -0.367893  -0.356188  \n",
       "3        0.705235      -0.426537   1.099516     1.103462 -0.367893  -0.356188  \n",
       "4       -0.917306      -1.070271  -0.847633    -0.381078 -0.367893   0.213331  \n",
       "\n",
       "[5 rows x 24 columns]"
      ]
     },
     "execution_count": 52,
     "metadata": {},
     "output_type": "execute_result"
    }
   ],
   "source": [
    "#save numerical columns in a alist\n",
    "cnames=[\"custAge\",\"campaign\",\"pdays\",\"previous\",\"emp.var.rate\",\"cons.price.idx\",\"cons.conf.idx\",\n",
    "        \"euribor3m\",\"nr.employed\",\"pmonths\",\"pastEmail\"]\n",
    "\n",
    "from sklearn.preprocessing import StandardScaler\n",
    "sc= StandardScaler()\n",
    "for col in cnames:\n",
    "    x_upsampled[col]=sc.fit_transform(x_upsampled[col].values.reshape(-1,1))\n",
    "    \n",
    "x_upsampled.head()"
   ]
  },
  {
   "cell_type": "code",
   "execution_count": 53,
   "metadata": {},
   "outputs": [],
   "source": [
    "from sklearn.model_selection import train_test_split\n",
    "\n",
    "x_train,x_test,y_train,y_test=train_test_split(x_upsampled,y_upsampled,test_size=0.2,random_state=0)"
   ]
  },
  {
   "cell_type": "code",
   "execution_count": 54,
   "metadata": {},
   "outputs": [
    {
     "data": {
      "text/plain": [
       "(2630, 24)"
      ]
     },
     "execution_count": 54,
     "metadata": {},
     "output_type": "execute_result"
    }
   ],
   "source": [
    "x_test.shape"
   ]
  },
  {
   "cell_type": "markdown",
   "metadata": {},
   "source": [
    "# Fitting Logistic Regression Model for the UPSAMPLED DATASET"
   ]
  },
  {
   "cell_type": "code",
   "execution_count": 55,
   "metadata": {},
   "outputs": [
    {
     "name": "stderr",
     "output_type": "stream",
     "text": [
      "C:\\ProgramData\\Anaconda3\\lib\\site-packages\\sklearn\\linear_model\\logistic.py:432: FutureWarning: Default solver will be changed to 'lbfgs' in 0.22. Specify a solver to silence this warning.\n",
      "  FutureWarning)\n"
     ]
    }
   ],
   "source": [
    "#using logistic regression model to the training set\n",
    "from sklearn.linear_model import LogisticRegression\n",
    "classifier_log=LogisticRegression()\n",
    "model=classifier_log.fit(x_train,y_train)"
   ]
  },
  {
   "cell_type": "code",
   "execution_count": 56,
   "metadata": {},
   "outputs": [],
   "source": [
    "#predicting on the test data\n",
    "y_pred_log=classifier_log.predict(x_test)"
   ]
  },
  {
   "cell_type": "code",
   "execution_count": 57,
   "metadata": {},
   "outputs": [
    {
     "name": "stdout",
     "output_type": "stream",
     "text": [
      "73.80228136882128\n"
     ]
    }
   ],
   "source": [
    "#checking on teh accuracy of the model\n",
    "from sklearn.metrics import accuracy_score\n",
    "print(accuracy_score(y_pred_log,y_test)*100)"
   ]
  },
  {
   "cell_type": "markdown",
   "metadata": {},
   "source": [
    "#  Fitting Decision Tree Classifier Model for the UPSAMPLED DATASET"
   ]
  },
  {
   "cell_type": "code",
   "execution_count": 58,
   "metadata": {},
   "outputs": [],
   "source": [
    "#fitting the decision_tree model\n",
    "from sklearn.tree import DecisionTreeClassifier\n",
    "classifier_tree= DecisionTreeClassifier()\n",
    "model= classifier_tree.fit(x_train,y_train)"
   ]
  },
  {
   "cell_type": "code",
   "execution_count": 59,
   "metadata": {},
   "outputs": [],
   "source": [
    "#predicting on the test data\n",
    "y_pred_tree=classifier_tree.predict(x_test)"
   ]
  },
  {
   "cell_type": "code",
   "execution_count": 60,
   "metadata": {},
   "outputs": [
    {
     "name": "stdout",
     "output_type": "stream",
     "text": [
      "94.52471482889734\n"
     ]
    }
   ],
   "source": [
    "#checking on teh accuracy of the model\n",
    "from sklearn.metrics import accuracy_score\n",
    "print(accuracy_score(y_pred_tree,y_test)*100)"
   ]
  },
  {
   "cell_type": "markdown",
   "metadata": {},
   "source": [
    "# Fitting a RandomForestClassifier Model for the UPSAMPLED DATASET"
   ]
  },
  {
   "cell_type": "code",
   "execution_count": 61,
   "metadata": {},
   "outputs": [],
   "source": [
    "from sklearn.ensemble import RandomForestClassifier\n",
    "classifier_forest= RandomForestClassifier(n_estimators=100,criterion=\"entropy\",random_state=0)\n",
    "model=classifier_forest.fit(x_train,y_train)"
   ]
  },
  {
   "cell_type": "code",
   "execution_count": 62,
   "metadata": {},
   "outputs": [],
   "source": [
    "#predicting on the test data\n",
    "y_pred_forest=classifier_forest.predict(x_test)"
   ]
  },
  {
   "cell_type": "code",
   "execution_count": 63,
   "metadata": {},
   "outputs": [
    {
     "name": "stdout",
     "output_type": "stream",
     "text": [
      "96.95817490494296\n"
     ]
    }
   ],
   "source": [
    "#checking on teh accuracy of the model\n",
    "from sklearn.metrics import accuracy_score\n",
    "print(accuracy_score(y_pred_forest,y_test)*100)"
   ]
  },
  {
   "cell_type": "markdown",
   "metadata": {},
   "source": [
    "# ROC for the UPSAMPLED DATASET"
   ]
  },
  {
   "cell_type": "code",
   "execution_count": 64,
   "metadata": {},
   "outputs": [
    {
     "data": {
      "text/plain": [
       "array([[0.  , 1.  ],\n",
       "       [0.97, 0.03],\n",
       "       [0.03, 0.97],\n",
       "       ...,\n",
       "       [0.88, 0.12],\n",
       "       [0.  , 1.  ],\n",
       "       [0.  , 1.  ]])"
      ]
     },
     "execution_count": 64,
     "metadata": {},
     "output_type": "execute_result"
    }
   ],
   "source": [
    "probs=classifier_forest.predict_proba(x_test)\n",
    "probs"
   ]
  },
  {
   "cell_type": "code",
   "execution_count": 65,
   "metadata": {},
   "outputs": [
    {
     "name": "stdout",
     "output_type": "stream",
     "text": [
      "Area under the curve: 0.9980085145984388\n"
     ]
    }
   ],
   "source": [
    "#keep probabilitiesof the positive calss only\n",
    "from sklearn import metrics\n",
    "prob_positive=probs[:,1]\n",
    "fpr,tpr,threshold =metrics.roc_curve(y_test,prob_positive)\n",
    "roc_auc=metrics.auc(fpr,tpr)\n",
    "print(\"Area under the curve:\",roc_auc)"
   ]
  },
  {
   "cell_type": "code",
   "execution_count": 66,
   "metadata": {},
   "outputs": [
    {
     "data": {
      "image/png": "[encoded data removed]",
      "text/plain": [
       "<Figure size 432x288 with 1 Axes>"
      ]
     },
     "metadata": {
      "needs_background": "light"
     },
     "output_type": "display_data"
    }
   ],
   "source": [
    "#plot roc curve\n",
    "plt.title(\"Receiver operating Characteristic\")\n",
    "plt.plot(fpr,tpr,\"orange\",label = \"AUC = %0.2f\" % roc_auc)\n",
    "plt.legend(loc=\"upper left\")\n",
    "plt.plot([0,1],[0,1],color=\"darkblue\",linestyle=\"--\")\n",
    "plt.ylabel(\"True Positive Rate\")\n",
    "plt.xlabel(\"False Positive Rate\")\n",
    "plt.show()"
   ]
  },
  {
   "cell_type": "markdown",
   "metadata": {},
   "source": [
    "# DOWN-SAMPLING/ UNDER-SAMPLING"
   ]
  },
  {
   "cell_type": "code",
   "execution_count": 67,
   "metadata": {},
   "outputs": [
    {
     "name": "stdout",
     "output_type": "stream",
     "text": [
      "0    6574\n",
      "1     840\n",
      "Name: responded, dtype: int64\n"
     ]
    }
   ],
   "source": [
    "print(marketing[\"responded\"].value_counts())\n",
    "df_majority=marketing[marketing.responded==0]\n",
    "df_minority=marketing[marketing.responded==1]"
   ]
  },
  {
   "cell_type": "code",
   "execution_count": 68,
   "metadata": {},
   "outputs": [],
   "source": [
    "import sklearn.utils as ut\n",
    "#down-sample majority class\n",
    "df_majority_downsampled=ut.resample(df_majority,\n",
    "                                  replace=False, #sample without replacement\n",
    "                                  n_samples=840, # to match minority class\n",
    "                                  random_state=1) #reproducible results"
   ]
  },
  {
   "cell_type": "code",
   "execution_count": 69,
   "metadata": {},
   "outputs": [
    {
     "data": {
      "text/plain": [
       "1    840\n",
       "0    840\n",
       "Name: responded, dtype: int64"
      ]
     },
     "execution_count": 69,
     "metadata": {},
     "output_type": "execute_result"
    }
   ],
   "source": [
    "#combine down-sampled majority class with minority class\n",
    "df_downsampled=pd.concat([df_majority_downsampled,df_minority])\n",
    "df_downsampled.responded.value_counts()"
   ]
  },
  {
   "cell_type": "code",
   "execution_count": 70,
   "metadata": {},
   "outputs": [
    {
     "data": {
      "text/plain": [
       "(1680, 25)"
      ]
     },
     "execution_count": 70,
     "metadata": {},
     "output_type": "execute_result"
    }
   ],
   "source": [
    "df_downsampled.shape\n"
   ]
  },
  {
   "cell_type": "code",
   "execution_count": 71,
   "metadata": {},
   "outputs": [],
   "source": [
    "x_upsampled=df_upsampled.drop(\"responded\",axis=1)\n",
    "y_upsampled=df_upsampled[\"responded\"]"
   ]
  },
  {
   "cell_type": "code",
   "execution_count": 72,
   "metadata": {},
   "outputs": [
    {
     "data": {
      "text/html": [
       "<div>\n",
       "<style scoped>\n",
       "    .dataframe tbody tr th:only-of-type {\n",
       "        vertical-align: middle;\n",
       "    }\n",
       "\n",
       "    .dataframe tbody tr th {\n",
       "        vertical-align: top;\n",
       "    }\n",
       "\n",
       "    .dataframe thead th {\n",
       "        text-align: right;\n",
       "    }\n",
       "</style>\n",
       "<table border=\"1\" class=\"dataframe\">\n",
       "  <thead>\n",
       "    <tr style=\"text-align: right;\">\n",
       "      <th></th>\n",
       "      <th>custAge</th>\n",
       "      <th>profession</th>\n",
       "      <th>marital</th>\n",
       "      <th>schooling</th>\n",
       "      <th>default_1</th>\n",
       "      <th>default_2</th>\n",
       "      <th>housing_1</th>\n",
       "      <th>housing_2</th>\n",
       "      <th>loan_1</th>\n",
       "      <th>loan_2</th>\n",
       "      <th>...</th>\n",
       "      <th>pdays</th>\n",
       "      <th>previous</th>\n",
       "      <th>poutcome</th>\n",
       "      <th>emp.var.rate</th>\n",
       "      <th>cons.price.idx</th>\n",
       "      <th>cons.conf.idx</th>\n",
       "      <th>euribor3m</th>\n",
       "      <th>nr.employed</th>\n",
       "      <th>pmonths</th>\n",
       "      <th>pastEmail</th>\n",
       "    </tr>\n",
       "  </thead>\n",
       "  <tbody>\n",
       "    <tr>\n",
       "      <th>0</th>\n",
       "      <td>1.377180</td>\n",
       "      <td>0</td>\n",
       "      <td>2</td>\n",
       "      <td>6</td>\n",
       "      <td>1</td>\n",
       "      <td>0</td>\n",
       "      <td>1</td>\n",
       "      <td>0</td>\n",
       "      <td>1</td>\n",
       "      <td>0</td>\n",
       "      <td>...</td>\n",
       "      <td>-0.325314</td>\n",
       "      <td>-0.453227</td>\n",
       "      <td>1</td>\n",
       "      <td>0.263351</td>\n",
       "      <td>-0.431335</td>\n",
       "      <td>-0.297790</td>\n",
       "      <td>0.690567</td>\n",
       "      <td>0.731752</td>\n",
       "      <td>-0.367893</td>\n",
       "      <td>-0.356188</td>\n",
       "    </tr>\n",
       "    <tr>\n",
       "      <th>1</th>\n",
       "      <td>-0.037966</td>\n",
       "      <td>1</td>\n",
       "      <td>1</td>\n",
       "      <td>6</td>\n",
       "      <td>1</td>\n",
       "      <td>0</td>\n",
       "      <td>1</td>\n",
       "      <td>0</td>\n",
       "      <td>1</td>\n",
       "      <td>0</td>\n",
       "      <td>...</td>\n",
       "      <td>-0.325314</td>\n",
       "      <td>-0.453227</td>\n",
       "      <td>1</td>\n",
       "      <td>1.141928</td>\n",
       "      <td>0.705235</td>\n",
       "      <td>-0.426537</td>\n",
       "      <td>1.098455</td>\n",
       "      <td>1.103462</td>\n",
       "      <td>-0.367893</td>\n",
       "      <td>-0.356188</td>\n",
       "    </tr>\n",
       "    <tr>\n",
       "      <th>2</th>\n",
       "      <td>0.149918</td>\n",
       "      <td>9</td>\n",
       "      <td>1</td>\n",
       "      <td>3</td>\n",
       "      <td>1</td>\n",
       "      <td>0</td>\n",
       "      <td>1</td>\n",
       "      <td>0</td>\n",
       "      <td>1</td>\n",
       "      <td>0</td>\n",
       "      <td>...</td>\n",
       "      <td>-0.325314</td>\n",
       "      <td>-0.453227</td>\n",
       "      <td>1</td>\n",
       "      <td>0.966213</td>\n",
       "      <td>0.825541</td>\n",
       "      <td>0.732185</td>\n",
       "      <td>1.043823</td>\n",
       "      <td>0.676513</td>\n",
       "      <td>-0.367893</td>\n",
       "      <td>-0.356188</td>\n",
       "    </tr>\n",
       "    <tr>\n",
       "      <th>3</th>\n",
       "      <td>1.377180</td>\n",
       "      <td>4</td>\n",
       "      <td>0</td>\n",
       "      <td>6</td>\n",
       "      <td>1</td>\n",
       "      <td>0</td>\n",
       "      <td>0</td>\n",
       "      <td>1</td>\n",
       "      <td>0</td>\n",
       "      <td>1</td>\n",
       "      <td>...</td>\n",
       "      <td>-0.325314</td>\n",
       "      <td>-0.453227</td>\n",
       "      <td>1</td>\n",
       "      <td>1.141928</td>\n",
       "      <td>0.705235</td>\n",
       "      <td>-0.426537</td>\n",
       "      <td>1.099516</td>\n",
       "      <td>1.103462</td>\n",
       "      <td>-0.367893</td>\n",
       "      <td>-0.356188</td>\n",
       "    </tr>\n",
       "    <tr>\n",
       "      <th>4</th>\n",
       "      <td>-0.037966</td>\n",
       "      <td>0</td>\n",
       "      <td>0</td>\n",
       "      <td>6</td>\n",
       "      <td>1</td>\n",
       "      <td>0</td>\n",
       "      <td>0</td>\n",
       "      <td>1</td>\n",
       "      <td>1</td>\n",
       "      <td>0</td>\n",
       "      <td>...</td>\n",
       "      <td>-0.325314</td>\n",
       "      <td>0.946264</td>\n",
       "      <td>0</td>\n",
       "      <td>-0.732371</td>\n",
       "      <td>-0.917306</td>\n",
       "      <td>-1.070271</td>\n",
       "      <td>-0.847633</td>\n",
       "      <td>-0.381078</td>\n",
       "      <td>-0.367893</td>\n",
       "      <td>0.213331</td>\n",
       "    </tr>\n",
       "  </tbody>\n",
       "</table>\n",
       "<p>5 rows × 24 columns</p>\n",
       "</div>"
      ],
      "text/plain": [
       "    custAge  profession  marital  schooling  default_1  default_2  housing_1  \\\n",
       "0  1.377180           0        2          6          1          0          1   \n",
       "1 -0.037966           1        1          6          1          0          1   \n",
       "2  0.149918           9        1          3          1          0          1   \n",
       "3  1.377180           4        0          6          1          0          0   \n",
       "4 -0.037966           0        0          6          1          0          0   \n",
       "\n",
       "   housing_2  loan_1  loan_2  ...     pdays  previous  poutcome  emp.var.rate  \\\n",
       "0          0       1       0  ... -0.325314 -0.453227         1      0.263351   \n",
       "1          0       1       0  ... -0.325314 -0.453227         1      1.141928   \n",
       "2          0       1       0  ... -0.325314 -0.453227         1      0.966213   \n",
       "3          1       0       1  ... -0.325314 -0.453227         1      1.141928   \n",
       "4          1       1       0  ... -0.325314  0.946264         0     -0.732371   \n",
       "\n",
       "   cons.price.idx  cons.conf.idx  euribor3m  nr.employed   pmonths  pastEmail  \n",
       "0       -0.431335      -0.297790   0.690567     0.731752 -0.367893  -0.356188  \n",
       "1        0.705235      -0.426537   1.098455     1.103462 -0.367893  -0.356188  \n",
       "2        0.825541       0.732185   1.043823     0.676513 -0.367893  -0.356188  \n",
       "3        0.705235      -0.426537   1.099516     1.103462 -0.367893  -0.356188  \n",
       "4       -0.917306      -1.070271  -0.847633    -0.381078 -0.367893   0.213331  \n",
       "\n",
       "[5 rows x 24 columns]"
      ]
     },
     "execution_count": 72,
     "metadata": {},
     "output_type": "execute_result"
    }
   ],
   "source": [
    "#save numerical columns in a alist\n",
    "cnames=[\"custAge\",\"campaign\",\"pdays\",\"previous\",\"emp.var.rate\",\"cons.price.idx\",\"cons.conf.idx\",\n",
    "        \"euribor3m\",\"nr.employed\",\"pmonths\",\"pastEmail\"]\n",
    "\n",
    "from sklearn.preprocessing import StandardScaler\n",
    "sc= StandardScaler()\n",
    "for col in cnames:\n",
    "    x_upsampled[col]=sc.fit_transform(x_upsampled[col].values.reshape(-1,1))\n",
    "    \n",
    "x_upsampled.head()"
   ]
  },
  {
   "cell_type": "code",
   "execution_count": null,
   "metadata": {},
   "outputs": [],
   "source": []
  },
  {
   "cell_type": "code",
   "execution_count": null,
   "metadata": {},
   "outputs": [],
   "source": []
  }
 ],
 "metadata": {
  "kernelspec": {
   "display_name": "Python 3",
   "language": "python",
   "name": "python3"
  },
  "language_info": {
   "codemirror_mode": {
    "name": "ipython",
    "version": 3
   },
   "file_extension": ".py",
   "mimetype": "text/x-python",
   "name": "python",
   "nbconvert_exporter": "python",
   "pygments_lexer": "ipython3",
   "version": "3.7.3"
  }
 },
 "nbformat": 4,
 "nbformat_minor": 2
}
